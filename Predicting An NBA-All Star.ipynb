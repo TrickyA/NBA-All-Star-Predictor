{
 "cells": [
  {
   "cell_type": "markdown",
   "metadata": {},
   "source": [
    "# Import the packages, algorithms and metrics"
   ]
  },
  {
   "cell_type": "code",
   "execution_count": 1,
   "metadata": {},
   "outputs": [],
   "source": [
    "import pandas as pd\n",
    "import numpy as np\n",
    "from sklearn.linear_model import LogisticRegression\n",
    "from sklearn.model_selection import train_test_split\n",
    "from sklearn.model_selection import cross_val_score\n",
    "\n",
    "from sklearn.tree import DecisionTreeClassifier\n",
    "from sklearn.ensemble import RandomForestClassifier\n",
    "from sklearn.ensemble import GradientBoostingClassifier\n",
    "from sklearn.ensemble import VotingClassifier\n",
    "from sklearn.neural_network import MLPClassifier\n",
    "\n",
    "from sklearn.model_selection import train_test_split\n",
    "from sklearn.model_selection import cross_val_score\n",
    "from sklearn.preprocessing import MinMaxScaler\n",
    "from sklearn.model_selection import GridSearchCV\n",
    "from sklearn.pipeline import Pipeline\n",
    "\n",
    "from sklearn.metrics import recall_score\n",
    "from sklearn.metrics import precision_score\n",
    "from sklearn.metrics import confusion_matrix\n",
    "from sklearn.metrics import f1_score"
   ]
  },
  {
   "cell_type": "markdown",
   "metadata": {},
   "source": [
    "# Load in data and create dataframe"
   ]
  },
  {
   "cell_type": "code",
   "execution_count": 2,
   "metadata": {},
   "outputs": [
    {
     "name": "stdout",
     "output_type": "stream",
     "text": [
      "(2360, 36) ['Season', 'Player', 'Pos', 'Age', 'Tm', 'G', 'GS', 'MP', 'FG', 'FGA', 'FG%', '3P', '3PA', '3P%', '2P', '2PA', '2P%', 'eFG%', 'FT', 'FTA', 'FT%', 'ORB', 'DRB', 'TRB', 'AST', 'STL', 'BLK', 'TOV', 'PF', 'PTS', 'PER', 'TS%', 'USG%', 'WS', 'BPM', 'All-Star']\n"
     ]
    },
    {
     "data": {
      "text/html": [
       "<div>\n",
       "<style scoped>\n",
       "    .dataframe tbody tr th:only-of-type {\n",
       "        vertical-align: middle;\n",
       "    }\n",
       "\n",
       "    .dataframe tbody tr th {\n",
       "        vertical-align: top;\n",
       "    }\n",
       "\n",
       "    .dataframe thead th {\n",
       "        text-align: right;\n",
       "    }\n",
       "</style>\n",
       "<table border=\"1\" class=\"dataframe\">\n",
       "  <thead>\n",
       "    <tr style=\"text-align: right;\">\n",
       "      <th></th>\n",
       "      <th>Season</th>\n",
       "      <th>Player</th>\n",
       "      <th>Pos</th>\n",
       "      <th>Age</th>\n",
       "      <th>Tm</th>\n",
       "      <th>G</th>\n",
       "      <th>GS</th>\n",
       "      <th>MP</th>\n",
       "      <th>FG</th>\n",
       "      <th>FGA</th>\n",
       "      <th>FG%</th>\n",
       "      <th>3P</th>\n",
       "      <th>3PA</th>\n",
       "      <th>3P%</th>\n",
       "      <th>2P</th>\n",
       "      <th>2PA</th>\n",
       "      <th>2P%</th>\n",
       "      <th>eFG%</th>\n",
       "      <th>FT</th>\n",
       "      <th>FTA</th>\n",
       "      <th>FT%</th>\n",
       "      <th>ORB</th>\n",
       "      <th>DRB</th>\n",
       "      <th>TRB</th>\n",
       "      <th>AST</th>\n",
       "      <th>STL</th>\n",
       "      <th>BLK</th>\n",
       "      <th>TOV</th>\n",
       "      <th>PF</th>\n",
       "      <th>PTS</th>\n",
       "      <th>PER</th>\n",
       "      <th>TS%</th>\n",
       "      <th>USG%</th>\n",
       "      <th>WS</th>\n",
       "      <th>BPM</th>\n",
       "      <th>All-Star</th>\n",
       "    </tr>\n",
       "  </thead>\n",
       "  <tbody>\n",
       "    <tr>\n",
       "      <th>0</th>\n",
       "      <td>2016</td>\n",
       "      <td>Álex Abrines</td>\n",
       "      <td>SG</td>\n",
       "      <td>23</td>\n",
       "      <td>OKC</td>\n",
       "      <td>68</td>\n",
       "      <td>6</td>\n",
       "      <td>15.5</td>\n",
       "      <td>2.0</td>\n",
       "      <td>5.0</td>\n",
       "      <td>0.393</td>\n",
       "      <td>1.4</td>\n",
       "      <td>3.6</td>\n",
       "      <td>0.381</td>\n",
       "      <td>0.6</td>\n",
       "      <td>1.4</td>\n",
       "      <td>0.426</td>\n",
       "      <td>0.531</td>\n",
       "      <td>0.6</td>\n",
       "      <td>0.7</td>\n",
       "      <td>0.898</td>\n",
       "      <td>0.3</td>\n",
       "      <td>1.0</td>\n",
       "      <td>1.3</td>\n",
       "      <td>0.6</td>\n",
       "      <td>0.5</td>\n",
       "      <td>0.1</td>\n",
       "      <td>0.5</td>\n",
       "      <td>1.7</td>\n",
       "      <td>6.0</td>\n",
       "      <td>10.1</td>\n",
       "      <td>0.560</td>\n",
       "      <td>15.9</td>\n",
       "      <td>2.1</td>\n",
       "      <td>-1.6</td>\n",
       "      <td>0</td>\n",
       "    </tr>\n",
       "    <tr>\n",
       "      <th>1</th>\n",
       "      <td>2016</td>\n",
       "      <td>Quincy Acy</td>\n",
       "      <td>PF</td>\n",
       "      <td>26</td>\n",
       "      <td>DAL</td>\n",
       "      <td>6</td>\n",
       "      <td>0</td>\n",
       "      <td>8.0</td>\n",
       "      <td>0.8</td>\n",
       "      <td>2.8</td>\n",
       "      <td>0.294</td>\n",
       "      <td>0.2</td>\n",
       "      <td>1.2</td>\n",
       "      <td>0.143</td>\n",
       "      <td>0.7</td>\n",
       "      <td>1.7</td>\n",
       "      <td>0.400</td>\n",
       "      <td>0.324</td>\n",
       "      <td>0.3</td>\n",
       "      <td>0.5</td>\n",
       "      <td>0.667</td>\n",
       "      <td>0.3</td>\n",
       "      <td>1.0</td>\n",
       "      <td>1.3</td>\n",
       "      <td>0.0</td>\n",
       "      <td>0.0</td>\n",
       "      <td>0.0</td>\n",
       "      <td>0.3</td>\n",
       "      <td>1.5</td>\n",
       "      <td>2.2</td>\n",
       "      <td>-1.4</td>\n",
       "      <td>0.355</td>\n",
       "      <td>20.0</td>\n",
       "      <td>-0.1</td>\n",
       "      <td>-14.3</td>\n",
       "      <td>0</td>\n",
       "    </tr>\n",
       "    <tr>\n",
       "      <th>2</th>\n",
       "      <td>2016</td>\n",
       "      <td>Quincy Acy</td>\n",
       "      <td>PF</td>\n",
       "      <td>26</td>\n",
       "      <td>BRK</td>\n",
       "      <td>32</td>\n",
       "      <td>1</td>\n",
       "      <td>15.9</td>\n",
       "      <td>2.0</td>\n",
       "      <td>4.8</td>\n",
       "      <td>0.425</td>\n",
       "      <td>1.1</td>\n",
       "      <td>2.6</td>\n",
       "      <td>0.434</td>\n",
       "      <td>0.9</td>\n",
       "      <td>2.2</td>\n",
       "      <td>0.414</td>\n",
       "      <td>0.542</td>\n",
       "      <td>1.3</td>\n",
       "      <td>1.8</td>\n",
       "      <td>0.754</td>\n",
       "      <td>0.6</td>\n",
       "      <td>2.8</td>\n",
       "      <td>3.3</td>\n",
       "      <td>0.6</td>\n",
       "      <td>0.4</td>\n",
       "      <td>0.5</td>\n",
       "      <td>0.6</td>\n",
       "      <td>1.8</td>\n",
       "      <td>6.5</td>\n",
       "      <td>13.1</td>\n",
       "      <td>0.587</td>\n",
       "      <td>16.5</td>\n",
       "      <td>1.1</td>\n",
       "      <td>-0.9</td>\n",
       "      <td>0</td>\n",
       "    </tr>\n",
       "    <tr>\n",
       "      <th>3</th>\n",
       "      <td>2016</td>\n",
       "      <td>Steven Adams</td>\n",
       "      <td>C</td>\n",
       "      <td>23</td>\n",
       "      <td>OKC</td>\n",
       "      <td>80</td>\n",
       "      <td>80</td>\n",
       "      <td>29.9</td>\n",
       "      <td>4.7</td>\n",
       "      <td>8.2</td>\n",
       "      <td>0.571</td>\n",
       "      <td>0.0</td>\n",
       "      <td>0.0</td>\n",
       "      <td>0.000</td>\n",
       "      <td>4.7</td>\n",
       "      <td>8.2</td>\n",
       "      <td>0.572</td>\n",
       "      <td>0.571</td>\n",
       "      <td>2.0</td>\n",
       "      <td>3.2</td>\n",
       "      <td>0.611</td>\n",
       "      <td>3.5</td>\n",
       "      <td>4.2</td>\n",
       "      <td>7.7</td>\n",
       "      <td>1.1</td>\n",
       "      <td>1.1</td>\n",
       "      <td>1.0</td>\n",
       "      <td>1.8</td>\n",
       "      <td>2.4</td>\n",
       "      <td>11.3</td>\n",
       "      <td>16.5</td>\n",
       "      <td>0.589</td>\n",
       "      <td>16.2</td>\n",
       "      <td>6.5</td>\n",
       "      <td>-0.2</td>\n",
       "      <td>0</td>\n",
       "    </tr>\n",
       "    <tr>\n",
       "      <th>4</th>\n",
       "      <td>2016</td>\n",
       "      <td>Arron Afflalo</td>\n",
       "      <td>SG</td>\n",
       "      <td>31</td>\n",
       "      <td>SAC</td>\n",
       "      <td>61</td>\n",
       "      <td>45</td>\n",
       "      <td>25.9</td>\n",
       "      <td>3.0</td>\n",
       "      <td>6.9</td>\n",
       "      <td>0.440</td>\n",
       "      <td>1.0</td>\n",
       "      <td>2.5</td>\n",
       "      <td>0.411</td>\n",
       "      <td>2.0</td>\n",
       "      <td>4.4</td>\n",
       "      <td>0.457</td>\n",
       "      <td>0.514</td>\n",
       "      <td>1.4</td>\n",
       "      <td>1.5</td>\n",
       "      <td>0.892</td>\n",
       "      <td>0.1</td>\n",
       "      <td>1.9</td>\n",
       "      <td>2.0</td>\n",
       "      <td>1.3</td>\n",
       "      <td>0.3</td>\n",
       "      <td>0.1</td>\n",
       "      <td>0.7</td>\n",
       "      <td>1.7</td>\n",
       "      <td>8.4</td>\n",
       "      <td>8.9</td>\n",
       "      <td>0.559</td>\n",
       "      <td>14.4</td>\n",
       "      <td>1.4</td>\n",
       "      <td>-3.6</td>\n",
       "      <td>0</td>\n",
       "    </tr>\n",
       "    <tr>\n",
       "      <th>5</th>\n",
       "      <td>2016</td>\n",
       "      <td>Alexis Ajinça</td>\n",
       "      <td>C</td>\n",
       "      <td>28</td>\n",
       "      <td>NOP</td>\n",
       "      <td>39</td>\n",
       "      <td>15</td>\n",
       "      <td>15.0</td>\n",
       "      <td>2.3</td>\n",
       "      <td>4.6</td>\n",
       "      <td>0.500</td>\n",
       "      <td>0.0</td>\n",
       "      <td>0.1</td>\n",
       "      <td>0.000</td>\n",
       "      <td>2.3</td>\n",
       "      <td>4.5</td>\n",
       "      <td>0.511</td>\n",
       "      <td>0.500</td>\n",
       "      <td>0.7</td>\n",
       "      <td>1.0</td>\n",
       "      <td>0.725</td>\n",
       "      <td>1.2</td>\n",
       "      <td>3.4</td>\n",
       "      <td>4.5</td>\n",
       "      <td>0.3</td>\n",
       "      <td>0.5</td>\n",
       "      <td>0.6</td>\n",
       "      <td>0.8</td>\n",
       "      <td>2.0</td>\n",
       "      <td>5.3</td>\n",
       "      <td>12.9</td>\n",
       "      <td>0.529</td>\n",
       "      <td>17.2</td>\n",
       "      <td>1.0</td>\n",
       "      <td>-3.3</td>\n",
       "      <td>0</td>\n",
       "    </tr>\n",
       "    <tr>\n",
       "      <th>6</th>\n",
       "      <td>2016</td>\n",
       "      <td>Cole Aldrich</td>\n",
       "      <td>C</td>\n",
       "      <td>28</td>\n",
       "      <td>MIN</td>\n",
       "      <td>62</td>\n",
       "      <td>0</td>\n",
       "      <td>8.6</td>\n",
       "      <td>0.7</td>\n",
       "      <td>1.4</td>\n",
       "      <td>0.523</td>\n",
       "      <td>0.0</td>\n",
       "      <td>0.0</td>\n",
       "      <td>0.000</td>\n",
       "      <td>0.7</td>\n",
       "      <td>1.4</td>\n",
       "      <td>0.523</td>\n",
       "      <td>0.523</td>\n",
       "      <td>0.2</td>\n",
       "      <td>0.4</td>\n",
       "      <td>0.682</td>\n",
       "      <td>0.8</td>\n",
       "      <td>1.7</td>\n",
       "      <td>2.5</td>\n",
       "      <td>0.4</td>\n",
       "      <td>0.4</td>\n",
       "      <td>0.4</td>\n",
       "      <td>0.3</td>\n",
       "      <td>1.4</td>\n",
       "      <td>1.7</td>\n",
       "      <td>12.7</td>\n",
       "      <td>0.549</td>\n",
       "      <td>9.4</td>\n",
       "      <td>1.3</td>\n",
       "      <td>-0.8</td>\n",
       "      <td>0</td>\n",
       "    </tr>\n",
       "    <tr>\n",
       "      <th>7</th>\n",
       "      <td>2016</td>\n",
       "      <td>LaMarcus Aldridge</td>\n",
       "      <td>PF</td>\n",
       "      <td>31</td>\n",
       "      <td>SAS</td>\n",
       "      <td>72</td>\n",
       "      <td>72</td>\n",
       "      <td>32.4</td>\n",
       "      <td>6.9</td>\n",
       "      <td>14.6</td>\n",
       "      <td>0.477</td>\n",
       "      <td>0.3</td>\n",
       "      <td>0.8</td>\n",
       "      <td>0.411</td>\n",
       "      <td>6.6</td>\n",
       "      <td>13.8</td>\n",
       "      <td>0.480</td>\n",
       "      <td>0.488</td>\n",
       "      <td>3.1</td>\n",
       "      <td>3.8</td>\n",
       "      <td>0.812</td>\n",
       "      <td>2.4</td>\n",
       "      <td>4.9</td>\n",
       "      <td>7.3</td>\n",
       "      <td>1.9</td>\n",
       "      <td>0.6</td>\n",
       "      <td>1.2</td>\n",
       "      <td>1.4</td>\n",
       "      <td>2.2</td>\n",
       "      <td>17.3</td>\n",
       "      <td>18.6</td>\n",
       "      <td>0.532</td>\n",
       "      <td>24.5</td>\n",
       "      <td>7.2</td>\n",
       "      <td>0.8</td>\n",
       "      <td>0</td>\n",
       "    </tr>\n",
       "    <tr>\n",
       "      <th>8</th>\n",
       "      <td>2016</td>\n",
       "      <td>Lavoy Allen</td>\n",
       "      <td>PF</td>\n",
       "      <td>27</td>\n",
       "      <td>IND</td>\n",
       "      <td>61</td>\n",
       "      <td>5</td>\n",
       "      <td>14.3</td>\n",
       "      <td>1.3</td>\n",
       "      <td>2.8</td>\n",
       "      <td>0.458</td>\n",
       "      <td>0.0</td>\n",
       "      <td>0.0</td>\n",
       "      <td>0.000</td>\n",
       "      <td>1.3</td>\n",
       "      <td>2.7</td>\n",
       "      <td>0.461</td>\n",
       "      <td>0.458</td>\n",
       "      <td>0.4</td>\n",
       "      <td>0.5</td>\n",
       "      <td>0.697</td>\n",
       "      <td>1.7</td>\n",
       "      <td>1.9</td>\n",
       "      <td>3.6</td>\n",
       "      <td>0.9</td>\n",
       "      <td>0.3</td>\n",
       "      <td>0.4</td>\n",
       "      <td>0.5</td>\n",
       "      <td>1.3</td>\n",
       "      <td>2.9</td>\n",
       "      <td>11.6</td>\n",
       "      <td>0.485</td>\n",
       "      <td>10.9</td>\n",
       "      <td>1.7</td>\n",
       "      <td>-1.7</td>\n",
       "      <td>0</td>\n",
       "    </tr>\n",
       "    <tr>\n",
       "      <th>9</th>\n",
       "      <td>2016</td>\n",
       "      <td>Tony Allen</td>\n",
       "      <td>SG</td>\n",
       "      <td>35</td>\n",
       "      <td>MEM</td>\n",
       "      <td>71</td>\n",
       "      <td>66</td>\n",
       "      <td>27.0</td>\n",
       "      <td>3.9</td>\n",
       "      <td>8.4</td>\n",
       "      <td>0.461</td>\n",
       "      <td>0.2</td>\n",
       "      <td>0.8</td>\n",
       "      <td>0.278</td>\n",
       "      <td>3.6</td>\n",
       "      <td>7.6</td>\n",
       "      <td>0.479</td>\n",
       "      <td>0.473</td>\n",
       "      <td>1.1</td>\n",
       "      <td>1.8</td>\n",
       "      <td>0.615</td>\n",
       "      <td>2.3</td>\n",
       "      <td>3.2</td>\n",
       "      <td>5.5</td>\n",
       "      <td>1.4</td>\n",
       "      <td>1.6</td>\n",
       "      <td>0.4</td>\n",
       "      <td>1.4</td>\n",
       "      <td>2.5</td>\n",
       "      <td>9.1</td>\n",
       "      <td>13.3</td>\n",
       "      <td>0.493</td>\n",
       "      <td>17.9</td>\n",
       "      <td>3.1</td>\n",
       "      <td>-1.0</td>\n",
       "      <td>0</td>\n",
       "    </tr>\n",
       "  </tbody>\n",
       "</table>\n",
       "</div>"
      ],
      "text/plain": [
       "   Season             Player Pos  Age   Tm   G  GS    MP   FG   FGA    FG%  \\\n",
       "0    2016       Álex Abrines  SG   23  OKC  68   6  15.5  2.0   5.0  0.393   \n",
       "1    2016         Quincy Acy  PF   26  DAL   6   0   8.0  0.8   2.8  0.294   \n",
       "2    2016         Quincy Acy  PF   26  BRK  32   1  15.9  2.0   4.8  0.425   \n",
       "3    2016       Steven Adams   C   23  OKC  80  80  29.9  4.7   8.2  0.571   \n",
       "4    2016      Arron Afflalo  SG   31  SAC  61  45  25.9  3.0   6.9  0.440   \n",
       "5    2016      Alexis Ajinça   C   28  NOP  39  15  15.0  2.3   4.6  0.500   \n",
       "6    2016       Cole Aldrich   C   28  MIN  62   0   8.6  0.7   1.4  0.523   \n",
       "7    2016  LaMarcus Aldridge  PF   31  SAS  72  72  32.4  6.9  14.6  0.477   \n",
       "8    2016        Lavoy Allen  PF   27  IND  61   5  14.3  1.3   2.8  0.458   \n",
       "9    2016         Tony Allen  SG   35  MEM  71  66  27.0  3.9   8.4  0.461   \n",
       "\n",
       "    3P  3PA    3P%   2P   2PA    2P%   eFG%   FT  FTA    FT%  ORB  DRB  TRB  \\\n",
       "0  1.4  3.6  0.381  0.6   1.4  0.426  0.531  0.6  0.7  0.898  0.3  1.0  1.3   \n",
       "1  0.2  1.2  0.143  0.7   1.7  0.400  0.324  0.3  0.5  0.667  0.3  1.0  1.3   \n",
       "2  1.1  2.6  0.434  0.9   2.2  0.414  0.542  1.3  1.8  0.754  0.6  2.8  3.3   \n",
       "3  0.0  0.0  0.000  4.7   8.2  0.572  0.571  2.0  3.2  0.611  3.5  4.2  7.7   \n",
       "4  1.0  2.5  0.411  2.0   4.4  0.457  0.514  1.4  1.5  0.892  0.1  1.9  2.0   \n",
       "5  0.0  0.1  0.000  2.3   4.5  0.511  0.500  0.7  1.0  0.725  1.2  3.4  4.5   \n",
       "6  0.0  0.0  0.000  0.7   1.4  0.523  0.523  0.2  0.4  0.682  0.8  1.7  2.5   \n",
       "7  0.3  0.8  0.411  6.6  13.8  0.480  0.488  3.1  3.8  0.812  2.4  4.9  7.3   \n",
       "8  0.0  0.0  0.000  1.3   2.7  0.461  0.458  0.4  0.5  0.697  1.7  1.9  3.6   \n",
       "9  0.2  0.8  0.278  3.6   7.6  0.479  0.473  1.1  1.8  0.615  2.3  3.2  5.5   \n",
       "\n",
       "   AST  STL  BLK  TOV   PF   PTS   PER    TS%  USG%   WS   BPM  All-Star  \n",
       "0  0.6  0.5  0.1  0.5  1.7   6.0  10.1  0.560  15.9  2.1  -1.6         0  \n",
       "1  0.0  0.0  0.0  0.3  1.5   2.2  -1.4  0.355  20.0 -0.1 -14.3         0  \n",
       "2  0.6  0.4  0.5  0.6  1.8   6.5  13.1  0.587  16.5  1.1  -0.9         0  \n",
       "3  1.1  1.1  1.0  1.8  2.4  11.3  16.5  0.589  16.2  6.5  -0.2         0  \n",
       "4  1.3  0.3  0.1  0.7  1.7   8.4   8.9  0.559  14.4  1.4  -3.6         0  \n",
       "5  0.3  0.5  0.6  0.8  2.0   5.3  12.9  0.529  17.2  1.0  -3.3         0  \n",
       "6  0.4  0.4  0.4  0.3  1.4   1.7  12.7  0.549   9.4  1.3  -0.8         0  \n",
       "7  1.9  0.6  1.2  1.4  2.2  17.3  18.6  0.532  24.5  7.2   0.8         0  \n",
       "8  0.9  0.3  0.4  0.5  1.3   2.9  11.6  0.485  10.9  1.7  -1.7         0  \n",
       "9  1.4  1.6  0.4  1.4  2.5   9.1  13.3  0.493  17.9  3.1  -1.0         0  "
      ]
     },
     "execution_count": 2,
     "metadata": {},
     "output_type": "execute_result"
    }
   ],
   "source": [
    "df = pd.read_csv('2016-2019_total stats.csv')\n",
    "print(df.shape, df.columns.to_list())\n",
    "\n",
    "#Checking out the data\n",
    "pd.set_option(\"display.max.columns\", None)\n",
    "df.head(10)"
   ]
  },
  {
   "cell_type": "code",
   "execution_count": 3,
   "metadata": {},
   "outputs": [
    {
     "name": "stdout",
     "output_type": "stream",
     "text": [
      "<class 'pandas.core.frame.DataFrame'>\n",
      "RangeIndex: 2360 entries, 0 to 2359\n",
      "Data columns (total 36 columns):\n",
      " #   Column    Non-Null Count  Dtype  \n",
      "---  ------    --------------  -----  \n",
      " 0   Season    2360 non-null   int64  \n",
      " 1   Player    2360 non-null   object \n",
      " 2   Pos       2360 non-null   object \n",
      " 3   Age       2360 non-null   int64  \n",
      " 4   Tm        2360 non-null   object \n",
      " 5   G         2360 non-null   int64  \n",
      " 6   GS        2360 non-null   int64  \n",
      " 7   MP        2360 non-null   float64\n",
      " 8   FG        2360 non-null   float64\n",
      " 9   FGA       2360 non-null   float64\n",
      " 10  FG%       2350 non-null   float64\n",
      " 11  3P        2360 non-null   float64\n",
      " 12  3PA       2360 non-null   float64\n",
      " 13  3P%       2269 non-null   float64\n",
      " 14  2P        2360 non-null   float64\n",
      " 15  2PA       2360 non-null   float64\n",
      " 16  2P%       2339 non-null   float64\n",
      " 17  eFG%      2351 non-null   float64\n",
      " 18  FT        2360 non-null   float64\n",
      " 19  FTA       2360 non-null   float64\n",
      " 20  FT%       2274 non-null   float64\n",
      " 21  ORB       2360 non-null   float64\n",
      " 22  DRB       2360 non-null   float64\n",
      " 23  TRB       2360 non-null   float64\n",
      " 24  AST       2360 non-null   float64\n",
      " 25  STL       2360 non-null   float64\n",
      " 26  BLK       2360 non-null   float64\n",
      " 27  TOV       2360 non-null   float64\n",
      " 28  PF        2360 non-null   float64\n",
      " 29  PTS       2360 non-null   float64\n",
      " 30  PER       2360 non-null   float64\n",
      " 31  TS%       2347 non-null   float64\n",
      " 32  USG%      2360 non-null   float64\n",
      " 33  WS        2360 non-null   float64\n",
      " 34  BPM       2360 non-null   float64\n",
      " 35  All-Star  2360 non-null   int64  \n",
      "dtypes: float64(28), int64(5), object(3)\n",
      "memory usage: 663.9+ KB\n"
     ]
    }
   ],
   "source": [
    "#Checking out the data\n",
    "\n",
    "df.info()"
   ]
  },
  {
   "cell_type": "markdown",
   "metadata": {},
   "source": [
    "# Visualizing the data"
   ]
  },
  {
   "cell_type": "code",
   "execution_count": 4,
   "metadata": {},
   "outputs": [],
   "source": [
    "#Import matplotlib\n",
    "\n",
    "import matplotlib.pyplot as plt\n",
    "%matplotlib inline"
   ]
  },
  {
   "cell_type": "code",
   "execution_count": 5,
   "metadata": {},
   "outputs": [],
   "source": [
    "PTS_column = df[\"PTS\"]\n",
    "TRB_column = df[\"TRB\"]\n",
    "AST_column = df[\"AST\"]\n",
    "WS_Column = df[\"WS\"]"
   ]
  },
  {
   "cell_type": "code",
   "execution_count": 6,
   "metadata": {},
   "outputs": [
    {
     "data": {
      "text/plain": [
       "<AxesSubplot:ylabel='Frequency'>"
      ]
     },
     "execution_count": 6,
     "metadata": {},
     "output_type": "execute_result"
    },
    {
     "data": {
      "image/png": "[encoded data removed]",
      "text/plain": [
       "<Figure size 432x288 with 1 Axes>"
      ]
     },
     "metadata": {
      "needs_background": "light"
     },
     "output_type": "display_data"
    }
   ],
   "source": [
    "# Points Histogram\n",
    "# Right skew here with majority of players scoring around 5 points per game\n",
    "PTS_column.plot(kind=\"hist\")"
   ]
  },
  {
   "cell_type": "code",
   "execution_count": 7,
   "metadata": {},
   "outputs": [
    {
     "data": {
      "text/plain": [
       "<AxesSubplot:ylabel='Frequency'>"
      ]
     },
     "execution_count": 7,
     "metadata": {},
     "output_type": "execute_result"
    },
    {
     "data": {
      "image/png": "[encoded data removed]",
      "text/plain": [
       "<Figure size 432x288 with 1 Axes>"
      ]
     },
     "metadata": {
      "needs_background": "light"
     },
     "output_type": "display_data"
    }
   ],
   "source": [
    "# Rebounds Histogram\n",
    "# Right skew here with majority of players getting between 2-4 rebounds a game\n",
    "\n",
    "TRB_column.plot(kind=\"hist\")"
   ]
  },
  {
   "cell_type": "code",
   "execution_count": 8,
   "metadata": {},
   "outputs": [
    {
     "data": {
      "text/plain": [
       "<AxesSubplot:ylabel='Frequency'>"
      ]
     },
     "execution_count": 8,
     "metadata": {},
     "output_type": "execute_result"
    },
    {
     "data": {
      "image/png": "[encoded data removed]",
      "text/plain": [
       "<Figure size 432x288 with 1 Axes>"
      ]
     },
     "metadata": {
      "needs_background": "light"
     },
     "output_type": "display_data"
    }
   ],
   "source": [
    "# Assists Histogram\n",
    "# Right skew here with majority of players getting between 0-2 assists a game\n",
    "\n",
    "AST_column.plot(kind=\"hist\")"
   ]
  },
  {
   "cell_type": "code",
   "execution_count": 9,
   "metadata": {},
   "outputs": [
    {
     "data": {
      "text/plain": [
       "<AxesSubplot:ylabel='Frequency'>"
      ]
     },
     "execution_count": 9,
     "metadata": {},
     "output_type": "execute_result"
    },
    {
     "data": {
      "image/png": "[encoded data removed]",
      "text/plain": [
       "<Figure size 432x288 with 1 Axes>"
      ]
     },
     "metadata": {
      "needs_background": "light"
     },
     "output_type": "display_data"
    }
   ],
   "source": [
    "# Win shares Histogram\n",
    "WS_Column.plot(kind=\"hist\")"
   ]
  },
  {
   "cell_type": "code",
   "execution_count": 10,
   "metadata": {},
   "outputs": [
    {
     "data": {
      "text/plain": [
       "<AxesSubplot:xlabel='Player'>"
      ]
     },
     "execution_count": 10,
     "metadata": {},
     "output_type": "execute_result"
    },
    {
     "data": {
      "image/png": "[encoded data removed]",
      "text/plain": [
       "<Figure size 432x288 with 1 Axes>"
      ]
     },
     "metadata": {
      "needs_background": "light"
     },
     "output_type": "display_data"
    }
   ],
   "source": [
    "#Players with highest points per game seasons between 2016-2019\n",
    "\n",
    "#James Harden\n",
    "#James Harden\n",
    "#Russell Westbrook\n",
    "#Bradley Beal\n",
    "#James Harden\n",
    "\n",
    "top_5 = df.sort_values(by=\"PTS\", ascending=False).head()\n",
    "\n",
    "top_5.plot(x=\"Player\", y=\"PTS\", kind=\"bar\", rot=10, fontsize=8.5)"
   ]
  },
  {
   "cell_type": "code",
   "execution_count": 11,
   "metadata": {},
   "outputs": [
    {
     "data": {
      "text/plain": [
       "<AxesSubplot:xlabel='Player'>"
      ]
     },
     "execution_count": 11,
     "metadata": {},
     "output_type": "execute_result"
    },
    {
     "data": {
      "image/png": "[encoded data removed]",
      "text/plain": [
       "<Figure size 432x288 with 1 Axes>"
      ]
     },
     "metadata": {
      "needs_background": "light"
     },
     "output_type": "display_data"
    }
   ],
   "source": [
    "#Players with highest assists per game seasons between 2016-2019\n",
    "\n",
    "#James Harden\n",
    "#Russell Westbrook\n",
    "#John Wall\n",
    "#Russell Westbrook\n",
    "#Russell Westbrook\n",
    "\n",
    "top_5ast = df.sort_values(by=\"AST\", ascending=False).head()\n",
    "\n",
    "top_5ast.plot(x=\"Player\", y=\"AST\", kind=\"bar\", rot=10, fontsize=8.5)"
   ]
  },
  {
   "cell_type": "code",
   "execution_count": 12,
   "metadata": {},
   "outputs": [
    {
     "data": {
      "text/plain": [
       "<AxesSubplot:xlabel='Player'>"
      ]
     },
     "execution_count": 12,
     "metadata": {},
     "output_type": "execute_result"
    },
    {
     "data": {
      "image/png": "[encoded data removed]",
      "text/plain": [
       "<Figure size 432x288 with 1 Axes>"
      ]
     },
     "metadata": {
      "needs_background": "light"
     },
     "output_type": "display_data"
    }
   ],
   "source": [
    "#Players with highest rebounds per game seasons between 2016-2019\n",
    "\n",
    "#Andre Drummond\n",
    "#Andre Drummond\n",
    "#Andre Drummond\n",
    "#DeAndre Jordann\n",
    "#Hassan Whiteside\n",
    "\n",
    "top_5reb = df.sort_values(by=\"TRB\", ascending=False).head()\n",
    "\n",
    "top_5reb.plot(x=\"Player\", y=\"TRB\", kind=\"bar\", rot=10, fontsize=8.5)"
   ]
  },
  {
   "cell_type": "code",
   "execution_count": 13,
   "metadata": {},
   "outputs": [
    {
     "data": {
      "text/plain": [
       "<AxesSubplot:xlabel='Player'>"
      ]
     },
     "execution_count": 13,
     "metadata": {},
     "output_type": "execute_result"
    },
    {
     "data": {
      "image/png": "[encoded data removed]",
      "text/plain": [
       "<Figure size 432x288 with 1 Axes>"
      ]
     },
     "metadata": {
      "needs_background": "light"
     },
     "output_type": "display_data"
    }
   ],
   "source": [
    "#Players with highest win shares between 2016-2019\n",
    "\n",
    "#James Harden\n",
    "#James Harden\n",
    "#James Harden\n",
    "#Rudy Gobert\n",
    "#Giannis Antetokounmpo\n",
    "\n",
    "top_5W = df.sort_values(by=\"WS\", ascending=False).head()\n",
    "\n",
    "top_5W.plot(x=\"Player\", y=\"WS\", kind=\"bar\", rot=10, fontsize=8.5)"
   ]
  },
  {
   "cell_type": "code",
   "execution_count": 14,
   "metadata": {},
   "outputs": [
    {
     "data": {
      "text/plain": [
       "<AxesSubplot:xlabel='USG%', ylabel='PTS'>"
      ]
     },
     "execution_count": 14,
     "metadata": {},
     "output_type": "execute_result"
    },
    {
     "data": {
      "image/png": "[encoded data removed]",
      "text/plain": [
       "<Figure size 432x288 with 1 Axes>"
      ]
     },
     "metadata": {
      "needs_background": "light"
     },
     "output_type": "display_data"
    }
   ],
   "source": [
    "#Correlation between usage rate and points scored\n",
    "#Fairly strong correlation\n",
    "\n",
    "df.plot(x=\"USG%\", y=\"PTS\", kind=\"scatter\")"
   ]
  },
  {
   "cell_type": "code",
   "execution_count": 15,
   "metadata": {},
   "outputs": [
    {
     "data": {
      "text/plain": [
       "<AxesSubplot:xlabel='3PA', ylabel='PTS'>"
      ]
     },
     "execution_count": 15,
     "metadata": {},
     "output_type": "execute_result"
    },
    {
     "data": {
      "image/png": "[encoded data removed]",
      "text/plain": [
       "<Figure size 432x288 with 1 Axes>"
      ]
     },
     "metadata": {
      "needs_background": "light"
     },
     "output_type": "display_data"
    }
   ],
   "source": [
    "#Correlation between 3 points attempted per game and points scored\n",
    "#Stronger correlation than usage rate\n",
    "\n",
    "df.plot(x=\"3PA\", y=\"PTS\", kind=\"scatter\")"
   ]
  },
  {
   "cell_type": "code",
   "execution_count": 16,
   "metadata": {},
   "outputs": [
    {
     "data": {
      "text/plain": [
       "<AxesSubplot:xlabel='3P', ylabel='PTS'>"
      ]
     },
     "execution_count": 16,
     "metadata": {},
     "output_type": "execute_result"
    },
    {
     "data": {
      "image/png": "[encoded data removed]",
      "text/plain": [
       "<Figure size 432x288 with 1 Axes>"
      ]
     },
     "metadata": {
      "needs_background": "light"
     },
     "output_type": "display_data"
    }
   ],
   "source": [
    "#Correlation between 3 points made and points scored\n",
    "#Strong correlation\n",
    "\n",
    "df.plot(x=\"3P\", y=\"PTS\", kind=\"scatter\")"
   ]
  },
  {
   "cell_type": "code",
   "execution_count": 17,
   "metadata": {},
   "outputs": [
    {
     "data": {
      "text/plain": [
       "<AxesSubplot:xlabel='WS', ylabel='PTS'>"
      ]
     },
     "execution_count": 17,
     "metadata": {},
     "output_type": "execute_result"
    },
    {
     "data": {
      "image/png": "[encoded data removed]",
      "text/plain": [
       "<Figure size 432x288 with 1 Axes>"
      ]
     },
     "metadata": {
      "needs_background": "light"
     },
     "output_type": "display_data"
    }
   ],
   "source": [
    "#Correlation between win shares and points scored\n",
    "#Strong correlation\n",
    "\n",
    "df.plot(x=\"WS\", y=\"PTS\", kind=\"scatter\")"
   ]
  },
  {
   "cell_type": "markdown",
   "metadata": {},
   "source": [
    "# Replace null/blank values with 0"
   ]
  },
  {
   "cell_type": "code",
   "execution_count": 18,
   "metadata": {},
   "outputs": [],
   "source": [
    "df.fillna(0, inplace=True)"
   ]
  },
  {
   "cell_type": "markdown",
   "metadata": {},
   "source": [
    "# Putting all the predictive features in a list (xcols)"
   ]
  },
  {
   "cell_type": "code",
   "execution_count": 19,
   "metadata": {},
   "outputs": [
    {
     "name": "stdout",
     "output_type": "stream",
     "text": [
      "['MP', 'FG', 'FGA', 'FG%', '3P', '3PA', '3P%', '2P', '2PA', '2P%', 'eFG%', 'FT', 'FTA', 'FT%', 'ORB', 'DRB', 'TRB', 'AST', 'STL', 'BLK', 'TOV', 'PF', 'PTS', 'PER', 'TS%', 'USG%', 'WS', 'BPM'] \n",
      "\n"
     ]
    }
   ],
   "source": [
    "xcols = df.columns[7 : 35].to_list()\n",
    "print(xcols,'\\n')"
   ]
  },
  {
   "cell_type": "markdown",
   "metadata": {},
   "source": [
    "# Train-test split\n",
    "\n",
    "## Split the data into training (80%) and testing (20%) portions\n",
    "\n",
    "#### Notes: train_test_split shuffles the data prior to splitting, so should be randomized\n",
    "#### The 'random_state' feature ensures that you get the same split of the data every time"
   ]
  },
  {
   "cell_type": "code",
   "execution_count": 20,
   "metadata": {},
   "outputs": [
    {
     "name": "stdout",
     "output_type": "stream",
     "text": [
      "training data: (1888, 28)\n",
      "test data: (472, 28)\n"
     ]
    }
   ],
   "source": [
    "X_train, X_test, y_train, y_test = train_test_split(df[xcols], df['All-Star'], \n",
    "                                                    train_size=0.8, random_state=1)\n",
    "print('training data:', X_train.shape)\n",
    "print('test data:', X_test.shape)"
   ]
  },
  {
   "cell_type": "markdown",
   "metadata": {},
   "source": [
    "# Logistic regression part 1 using all of the data"
   ]
  },
  {
   "cell_type": "code",
   "execution_count": 21,
   "metadata": {},
   "outputs": [
    {
     "name": "stdout",
     "output_type": "stream",
     "text": [
      "training accuracy: 0.98\n",
      "test accuracy: 0.987\n"
     ]
    }
   ],
   "source": [
    "#Pretty good accuracy although there is a slight indication of overfitting\n",
    "\n",
    "log_reg = LogisticRegression(solver='lbfgs', max_iter=3000)\n",
    "\n",
    "# Fit the model to the training data\n",
    "clf = log_reg.fit(X_train, y_train)\n",
    "\n",
    "# Get accuracy stats\n",
    "print('training accuracy: {}'.format(clf.score(X_train, y_train).round(3)))\n",
    "print('test accuracy: {}'.format(clf.score(X_test, y_test).round(3)))"
   ]
  },
  {
   "cell_type": "markdown",
   "metadata": {},
   "source": [
    "# Exploring the coefficients"
   ]
  },
  {
   "cell_type": "code",
   "execution_count": 22,
   "metadata": {},
   "outputs": [
    {
     "name": "stdout",
     "output_type": "stream",
     "text": [
      "Ten largest positive features:\n",
      "    feature  coefficient\n",
      "19     BLK     0.896932\n",
      "15     DRB     0.699265\n",
      "26      WS     0.576855\n",
      "18     STL     0.502342\n",
      "17     AST     0.324525\n",
      "25    USG%     0.310784\n",
      "4       3P     0.305152\n",
      "6      3P%     0.257870\n",
      "0       MP     0.205625\n",
      "8      2PA     0.168880 \n",
      "\n",
      "Ten largest negative features:\n",
      "    feature  coefficient\n",
      "20     TOV     0.035314\n",
      "16     TRB     0.024485\n",
      "2      FGA     0.018399\n",
      "12     FTA    -0.077998\n",
      "11      FT    -0.143209\n",
      "5      3PA    -0.170199\n",
      "23     PER    -0.272222\n",
      "21      PF    -0.441302\n",
      "7       2P    -0.538853\n",
      "14     ORB    -0.692044\n"
     ]
    }
   ],
   "source": [
    "# Put the coefficients into a new dataframe\n",
    "coef = pd.concat([pd.DataFrame(xcols),pd.DataFrame(np.transpose(clf.coef_))], axis = 1)\n",
    "coef.columns = ['feature','coefficient']\n",
    "coef.sort_values(by=['coefficient'], ascending=False, inplace=True)\n",
    "\n",
    "# Examine the features/stats with the 10 largest positive and negative coefficients\n",
    "print('Ten largest positive features:\\n', coef.head(10), '\\n')\n",
    "print('Ten largest negative features:\\n', coef.tail(10))\n",
    "\n",
    "#The coefficients here show the best weights to maximize the 1s and minimize the 0s."
   ]
  },
  {
   "cell_type": "code",
   "execution_count": 23,
   "metadata": {},
   "outputs": [
    {
     "name": "stdout",
     "output_type": "stream",
     "text": [
      "['BLK', 'DRB', 'WS', 'STL', 'AST', 'USG%', '3P', '3P%', 'MP', '2PA', 'TOV', 'TRB', 'FGA', 'FTA', 'FT', '3PA', 'PER', 'PF', '2P', 'ORB']\n"
     ]
    }
   ],
   "source": [
    "#Adding the features with the 10 largest positive and negative coefficients to a new list for training purposes\n",
    "\n",
    "xcols2 = coef.feature[0:10].to_list()\n",
    "xcols2 += coef.feature[-10:].to_list()\n",
    "print(xcols2)"
   ]
  },
  {
   "cell_type": "markdown",
   "metadata": {},
   "source": [
    "# Logistic regression part 2 using only the list of features with the largest coefficients (xcols2)"
   ]
  },
  {
   "cell_type": "code",
   "execution_count": 24,
   "metadata": {},
   "outputs": [
    {
     "name": "stdout",
     "output_type": "stream",
     "text": [
      "training data: (1888, 20)\n",
      "test data: (472, 20)\n",
      "training accuracy: 0.979\n",
      "test accuracy: 0.987\n"
     ]
    }
   ],
   "source": [
    "X_train, X_test, y_train, y_test = train_test_split(df[xcols2], df['All-Star'], \n",
    "                                                    train_size=0.8, random_state=1)\n",
    "print('training data:', X_train.shape)\n",
    "print('test data:', X_test.shape)\n",
    "\n",
    "# fit the model to the training data\n",
    "clf2 = log_reg.fit(X_train, y_train)\n",
    "\n",
    "# get accuracy stats\n",
    "print('training accuracy: {}'.format(clf2.score(X_train, y_train).round(3)))\n",
    "print('test accuracy: {}'.format(clf2.score(X_test, y_test).round(3)))"
   ]
  },
  {
   "cell_type": "markdown",
   "metadata": {},
   "source": [
    "# Model Evaluation"
   ]
  },
  {
   "cell_type": "code",
   "execution_count": 25,
   "metadata": {},
   "outputs": [
    {
     "name": "stdout",
     "output_type": "stream",
     "text": [
      "C = 0.001\n",
      "training accuracy: 0.976\n",
      "test accuracy: 0.985 \n",
      "\n",
      "C = 0.01\n",
      "training accuracy: 0.978\n",
      "test accuracy: 0.987 \n",
      "\n",
      "C = 0.1\n",
      "training accuracy: 0.977\n",
      "test accuracy: 0.989 \n",
      "\n",
      "C = 1\n",
      "training accuracy: 0.979\n",
      "test accuracy: 0.987 \n",
      "\n",
      "C = 10\n",
      "training accuracy: 0.98\n",
      "test accuracy: 0.985 \n",
      "\n"
     ]
    }
   ],
   "source": [
    "# Regularization w/ logistic regression & C parameter with logistic regression\n",
    "\n",
    "cset = [.001, .01, .1, 1, 10]\n",
    "for i in cset:\n",
    "    print('C =', i)\n",
    "    log_reg = LogisticRegression(solver='lbfgs', max_iter=3000, C=i)\n",
    "    clf = log_reg.fit(X_train, y_train)\n",
    "    print('training accuracy: {}'.format(clf.score(X_train, y_train).round(3)))\n",
    "    print('test accuracy: {}'.format(clf.score(X_test, y_test).round(3)), '\\n')"
   ]
  },
  {
   "cell_type": "code",
   "execution_count": 26,
   "metadata": {},
   "outputs": [
    {
     "name": "stdout",
     "output_type": "stream",
     "text": [
      "C = 0.001\n",
      "[0.98305085 0.97669492 0.97881356 0.97881356 0.96822034]\n",
      "Accuracy: 0.977 (+/- 0.010) \n",
      "\n",
      "C = 0.01\n",
      "[0.97669492 0.98305085 0.97457627 0.98305085 0.97245763]\n",
      "Accuracy: 0.978 (+/- 0.009) \n",
      "\n",
      "C = 0.1\n",
      "[0.97669492 0.9809322  0.97457627 0.9809322  0.97669492]\n",
      "Accuracy: 0.978 (+/- 0.005) \n",
      "\n",
      "C = 1\n",
      "[0.97669492 0.97245763 0.97457627 0.9809322  0.97245763]\n",
      "Accuracy: 0.975 (+/- 0.006) \n",
      "\n",
      "C = 10\n",
      "[0.97245763 0.97457627 0.97457627 0.9809322  0.96610169]\n",
      "Accuracy: 0.974 (+/- 0.010) \n",
      "\n"
     ]
    }
   ],
   "source": [
    "# Cross-validation w/ tuning regularization in logistic regression\n",
    "\n",
    "for i in cset:\n",
    "    print('C =', i)\n",
    "    log_reg = LogisticRegression(solver='lbfgs', max_iter=3000, C=i)\n",
    "    scores = cross_val_score(log_reg, df[xcols2], df['All-Star'], cv=5)\n",
    "    print(scores)\n",
    "    print(\"Accuracy: %0.3f (+/- %0.3f)\" % (scores.mean(), scores.std() * 2), '\\n')"
   ]
  },
  {
   "cell_type": "code",
   "execution_count": 27,
   "metadata": {},
   "outputs": [
    {
     "name": "stdout",
     "output_type": "stream",
     "text": [
      "  Recall: 0.800\n",
      "  Precision: 0.842\n",
      "  F1 score: 0.821\n",
      "  Specificity: 0.993\n"
     ]
    }
   ],
   "source": [
    "# Let's check out some other stats for the test data\n",
    "# Pretty good recall, precision, F1 score and specificity overall\n",
    "\n",
    "y_pred_test = clf.predict(X_test)\n",
    "print('  Recall: {:.3f}'.format(recall_score(y_test, y_pred_test)))\n",
    "print('  Precision: {:.3f}'.format(precision_score(y_test, y_pred_test)))\n",
    "print('  F1 score: {:.3f}'.format(f1_score(y_test, y_pred_test)))\n",
    "cm = confusion_matrix(y_test, y_pred_test)\n",
    "tn, fp, fn, tp = cm.ravel()\n",
    "specificity = tn / (tn+fp)\n",
    "print('  Specificity: {:.3f}'.format(specificity))"
   ]
  },
  {
   "cell_type": "code",
   "execution_count": 28,
   "metadata": {},
   "outputs": [
    {
     "name": "stdout",
     "output_type": "stream",
     "text": [
      "CM key:\n",
      " [['TN' 'FP']\n",
      " ['FN' 'TP']] \n",
      "\n",
      "CM for test:\n",
      " [[449   3]\n",
      " [  4  16]]\n"
     ]
    }
   ],
   "source": [
    "# Confusion matrix\n",
    "\n",
    "cm = confusion_matrix(y_test, y_pred_test)\n",
    "sample = np.array([['TN', 'FP'], ['FN', 'TP']])\n",
    "print('CM key:\\n', sample, '\\n')\n",
    "print('CM for test:\\n', cm)"
   ]
  },
  {
   "cell_type": "markdown",
   "metadata": {},
   "source": [
    "# Implementing Grid search attempting to to compute the optimum values of hyperparameters"
   ]
  },
  {
   "cell_type": "code",
   "execution_count": 29,
   "metadata": {},
   "outputs": [],
   "source": [
    "# Grid search\n",
    "\n",
    "# Define x_scaler\n",
    "\n",
    "scaler = MinMaxScaler()\n",
    "\n",
    "X = df[xcols2]\n",
    "scaled_X = scaler.fit_transform(X)\n",
    "y = df['All-Star']"
   ]
  },
  {
   "cell_type": "code",
   "execution_count": 30,
   "metadata": {},
   "outputs": [
    {
     "name": "stdout",
     "output_type": "stream",
     "text": [
      "mean of accuracies: [0.95815732 0.97192823 0.97404463 0.97404463 0.97404463 0.97510283\n",
      " 0.97616272]\n",
      "std dev of accuracies: [0.0014831  0.00197893 0.00328017 0.0052545  0.00418325 0.00457164\n",
      " 0.00390663]\n",
      "best parameters: {'C': 100}\n"
     ]
    }
   ],
   "source": [
    "# Grid search\n",
    "\n",
    "# Positive results\n",
    "\n",
    "scaled_X = scaler.fit_transform(X_train)\n",
    "\n",
    "tuned_parameters = {'C': [0.1, 0.5, 1, 5, 10, 50, 100]}\n",
    "\n",
    "grid = GridSearchCV(LogisticRegression(solver='liblinear'), tuned_parameters, cv=3, scoring=\"accuracy\")\n",
    "\n",
    "grid.fit(scaled_X, y_train)\n",
    "\n",
    "print('mean of accuracies:', grid.cv_results_['mean_test_score'])\n",
    "print('std dev of accuracies:', grid.cv_results_['std_test_score'])\n",
    "\n",
    "# print best parameter after tuning \n",
    "print('best parameters:', grid.best_params_) \n",
    "\n",
    "# store the best estimator (In this case it's 'C': 100)\n",
    "best_logreg = grid.best_estimator_"
   ]
  },
  {
   "cell_type": "markdown",
   "metadata": {},
   "source": [
    "# Ensemble Model: Random Forests"
   ]
  },
  {
   "cell_type": "code",
   "execution_count": 31,
   "metadata": {},
   "outputs": [
    {
     "name": "stdout",
     "output_type": "stream",
     "text": [
      "\n",
      "params: {'max_samples': 0.25, 'n_estimators': 10}\n",
      "mean of accuracies: 0.9783876672777417\n",
      "std dev of accuracies: 0.004163786241168384\n",
      "\n",
      "params: {'max_samples': 0.25, 'n_estimators': 100}\n",
      "mean of accuracies: 0.978810677754391\n",
      "std dev of accuracies: 0.004919325353848497\n",
      "\n",
      "params: {'max_samples': 0.25, 'n_estimators': 250}\n",
      "mean of accuracies: 0.980504875128385\n",
      "std dev of accuracies: 0.006095597012227296\n",
      "\n",
      "params: {'max_samples': 0.5, 'n_estimators': 10}\n",
      "mean of accuracies: 0.9771154026466985\n",
      "std dev of accuracies: 0.0055077881963055434\n",
      "\n",
      "params: {'max_samples': 0.5, 'n_estimators': 100}\n",
      "mean of accuracies: 0.9792347659647387\n",
      "std dev of accuracies: 0.004208928110305293\n",
      "\n",
      "params: {'max_samples': 0.5, 'n_estimators': 250}\n",
      "mean of accuracies: 0.9796583153082373\n",
      "std dev of accuracies: 0.004538167749342911\n",
      "\n",
      "params: {'max_samples': 1, 'n_estimators': 10}\n",
      "mean of accuracies: 0.9563560961467786\n",
      "std dev of accuracies: 0.0005864634258649128\n",
      "\n",
      "params: {'max_samples': 1, 'n_estimators': 100}\n",
      "mean of accuracies: 0.9563560961467786\n",
      "std dev of accuracies: 0.0005864634258649128\n",
      "\n",
      "params: {'max_samples': 1, 'n_estimators': 250}\n",
      "mean of accuracies: 0.9563560961467786\n",
      "std dev of accuracies: 0.0005864634258649128\n",
      "\n",
      "***best parameters: {'max_samples': 0.25, 'n_estimators': 250}\n",
      "best score: 0.980504875128385\n"
     ]
    }
   ],
   "source": [
    "#Bagging with random forests\n",
    "\n",
    "# set-up grid of parameters to search\n",
    "param_grid = {'n_estimators': [10, 100, 250], 'max_samples': [.25, .5, 1]} \n",
    "\n",
    "\n",
    "# instantiate grid search object\n",
    "grid = GridSearchCV(RandomForestClassifier(), param_grid, cv = 3)\n",
    "\n",
    "# fitting the model for grid search \n",
    "grid.fit(X, y)\n",
    "\n",
    "# print parameters, mean, and standard deviation of scores by iteration\n",
    "for z in range(0, len(grid.cv_results_['params'])):\n",
    "    print('\\nparams:', grid.cv_results_['params'][z])\n",
    "    print('mean of accuracies:', grid.cv_results_['mean_test_score'][z])\n",
    "    print('std dev of accuracies:', grid.cv_results_['std_test_score'][z])\n",
    "\n",
    "# print best parameter after tuning \n",
    "print('\\n***best parameters:', grid.best_params_)\n",
    "print('best score:', grid.best_score_)\n",
    "\n",
    "# store the best estimator (in this case it's 'max_samples': 0.5, 'n_estimators': 100)\n",
    "best_rf = grid.best_estimator_"
   ]
  },
  {
   "cell_type": "markdown",
   "metadata": {},
   "source": [
    "# Let's Start Predicting (Using the Logistic Regression Model due to it having slightly more accuracy)"
   ]
  },
  {
   "cell_type": "code",
   "execution_count": 32,
   "metadata": {},
   "outputs": [
    {
     "name": "stdout",
     "output_type": "stream",
     "text": [
      "(626, 35) ['Rk', 'Player', 'Pos', 'Age', 'Tm', 'G', 'GS', 'MP', 'FG', 'FGA', 'FG%', '3P', '3PA', '3P%', '2P', '2PA', '2P%', 'eFG%', 'FT', 'FTA', 'FT%', 'ORB', 'DRB', 'TRB', 'AST', 'STL', 'BLK', 'TOV', 'PF', 'PTS', 'PER', 'TS%', 'USG%', 'WS', 'BPM'] \n",
      "\n"
     ]
    },
    {
     "data": {
      "text/html": [
       "<div>\n",
       "<style scoped>\n",
       "    .dataframe tbody tr th:only-of-type {\n",
       "        vertical-align: middle;\n",
       "    }\n",
       "\n",
       "    .dataframe tbody tr th {\n",
       "        vertical-align: top;\n",
       "    }\n",
       "\n",
       "    .dataframe thead th {\n",
       "        text-align: right;\n",
       "    }\n",
       "</style>\n",
       "<table border=\"1\" class=\"dataframe\">\n",
       "  <thead>\n",
       "    <tr style=\"text-align: right;\">\n",
       "      <th></th>\n",
       "      <th>Rk</th>\n",
       "      <th>Player</th>\n",
       "      <th>Pos</th>\n",
       "      <th>Age</th>\n",
       "      <th>Tm</th>\n",
       "      <th>G</th>\n",
       "      <th>GS</th>\n",
       "      <th>MP</th>\n",
       "      <th>FG</th>\n",
       "      <th>FGA</th>\n",
       "      <th>FG%</th>\n",
       "      <th>3P</th>\n",
       "      <th>3PA</th>\n",
       "      <th>3P%</th>\n",
       "      <th>2P</th>\n",
       "      <th>2PA</th>\n",
       "      <th>2P%</th>\n",
       "      <th>eFG%</th>\n",
       "      <th>FT</th>\n",
       "      <th>FTA</th>\n",
       "      <th>FT%</th>\n",
       "      <th>ORB</th>\n",
       "      <th>DRB</th>\n",
       "      <th>TRB</th>\n",
       "      <th>AST</th>\n",
       "      <th>STL</th>\n",
       "      <th>BLK</th>\n",
       "      <th>TOV</th>\n",
       "      <th>PF</th>\n",
       "      <th>PTS</th>\n",
       "      <th>PER</th>\n",
       "      <th>TS%</th>\n",
       "      <th>USG%</th>\n",
       "      <th>WS</th>\n",
       "      <th>BPM</th>\n",
       "    </tr>\n",
       "  </thead>\n",
       "  <tbody>\n",
       "    <tr>\n",
       "      <th>0</th>\n",
       "      <td>1</td>\n",
       "      <td>Precious Achiuwa</td>\n",
       "      <td>PF</td>\n",
       "      <td>21</td>\n",
       "      <td>MIA</td>\n",
       "      <td>61</td>\n",
       "      <td>4</td>\n",
       "      <td>12.1</td>\n",
       "      <td>2.0</td>\n",
       "      <td>3.7</td>\n",
       "      <td>0.544</td>\n",
       "      <td>0.0</td>\n",
       "      <td>0.0</td>\n",
       "      <td>0.000</td>\n",
       "      <td>2.0</td>\n",
       "      <td>3.7</td>\n",
       "      <td>0.546</td>\n",
       "      <td>0.544</td>\n",
       "      <td>0.9</td>\n",
       "      <td>1.8</td>\n",
       "      <td>0.509</td>\n",
       "      <td>1.2</td>\n",
       "      <td>2.2</td>\n",
       "      <td>3.4</td>\n",
       "      <td>0.5</td>\n",
       "      <td>0.3</td>\n",
       "      <td>0.5</td>\n",
       "      <td>0.7</td>\n",
       "      <td>1.5</td>\n",
       "      <td>5.0</td>\n",
       "      <td>14.2</td>\n",
       "      <td>0.550</td>\n",
       "      <td>19.5</td>\n",
       "      <td>1.3</td>\n",
       "      <td>-4.5</td>\n",
       "    </tr>\n",
       "    <tr>\n",
       "      <th>1</th>\n",
       "      <td>2</td>\n",
       "      <td>Jaylen Adams</td>\n",
       "      <td>PG</td>\n",
       "      <td>24</td>\n",
       "      <td>MIL</td>\n",
       "      <td>7</td>\n",
       "      <td>0</td>\n",
       "      <td>2.6</td>\n",
       "      <td>0.1</td>\n",
       "      <td>1.1</td>\n",
       "      <td>0.125</td>\n",
       "      <td>0.0</td>\n",
       "      <td>0.3</td>\n",
       "      <td>0.000</td>\n",
       "      <td>0.1</td>\n",
       "      <td>0.9</td>\n",
       "      <td>0.167</td>\n",
       "      <td>0.125</td>\n",
       "      <td>0.0</td>\n",
       "      <td>0.0</td>\n",
       "      <td>NaN</td>\n",
       "      <td>0.0</td>\n",
       "      <td>0.4</td>\n",
       "      <td>0.4</td>\n",
       "      <td>0.3</td>\n",
       "      <td>0.0</td>\n",
       "      <td>0.0</td>\n",
       "      <td>0.0</td>\n",
       "      <td>0.1</td>\n",
       "      <td>0.3</td>\n",
       "      <td>-6.5</td>\n",
       "      <td>0.125</td>\n",
       "      <td>18.6</td>\n",
       "      <td>-0.1</td>\n",
       "      <td>-19.8</td>\n",
       "    </tr>\n",
       "    <tr>\n",
       "      <th>2</th>\n",
       "      <td>3</td>\n",
       "      <td>Steven Adams</td>\n",
       "      <td>C</td>\n",
       "      <td>27</td>\n",
       "      <td>NOP</td>\n",
       "      <td>58</td>\n",
       "      <td>58</td>\n",
       "      <td>27.7</td>\n",
       "      <td>3.3</td>\n",
       "      <td>5.3</td>\n",
       "      <td>0.614</td>\n",
       "      <td>0.0</td>\n",
       "      <td>0.1</td>\n",
       "      <td>0.000</td>\n",
       "      <td>3.3</td>\n",
       "      <td>5.3</td>\n",
       "      <td>0.620</td>\n",
       "      <td>0.614</td>\n",
       "      <td>1.0</td>\n",
       "      <td>2.3</td>\n",
       "      <td>0.444</td>\n",
       "      <td>3.7</td>\n",
       "      <td>5.2</td>\n",
       "      <td>8.9</td>\n",
       "      <td>1.9</td>\n",
       "      <td>0.9</td>\n",
       "      <td>0.7</td>\n",
       "      <td>1.3</td>\n",
       "      <td>1.9</td>\n",
       "      <td>7.6</td>\n",
       "      <td>15.1</td>\n",
       "      <td>0.596</td>\n",
       "      <td>11.7</td>\n",
       "      <td>4.0</td>\n",
       "      <td>-0.8</td>\n",
       "    </tr>\n",
       "    <tr>\n",
       "      <th>3</th>\n",
       "      <td>4</td>\n",
       "      <td>Bam Adebayo</td>\n",
       "      <td>C</td>\n",
       "      <td>23</td>\n",
       "      <td>MIA</td>\n",
       "      <td>64</td>\n",
       "      <td>64</td>\n",
       "      <td>33.5</td>\n",
       "      <td>7.1</td>\n",
       "      <td>12.5</td>\n",
       "      <td>0.570</td>\n",
       "      <td>0.0</td>\n",
       "      <td>0.1</td>\n",
       "      <td>0.250</td>\n",
       "      <td>7.1</td>\n",
       "      <td>12.4</td>\n",
       "      <td>0.573</td>\n",
       "      <td>0.571</td>\n",
       "      <td>4.4</td>\n",
       "      <td>5.5</td>\n",
       "      <td>0.799</td>\n",
       "      <td>2.2</td>\n",
       "      <td>6.7</td>\n",
       "      <td>9.0</td>\n",
       "      <td>5.4</td>\n",
       "      <td>1.2</td>\n",
       "      <td>1.0</td>\n",
       "      <td>2.6</td>\n",
       "      <td>2.3</td>\n",
       "      <td>18.7</td>\n",
       "      <td>22.7</td>\n",
       "      <td>0.626</td>\n",
       "      <td>23.7</td>\n",
       "      <td>8.8</td>\n",
       "      <td>4.7</td>\n",
       "    </tr>\n",
       "    <tr>\n",
       "      <th>4</th>\n",
       "      <td>5</td>\n",
       "      <td>LaMarcus Aldridge</td>\n",
       "      <td>C</td>\n",
       "      <td>35</td>\n",
       "      <td>SAS</td>\n",
       "      <td>21</td>\n",
       "      <td>18</td>\n",
       "      <td>25.9</td>\n",
       "      <td>5.5</td>\n",
       "      <td>11.8</td>\n",
       "      <td>0.464</td>\n",
       "      <td>1.3</td>\n",
       "      <td>3.6</td>\n",
       "      <td>0.360</td>\n",
       "      <td>4.2</td>\n",
       "      <td>8.2</td>\n",
       "      <td>0.509</td>\n",
       "      <td>0.518</td>\n",
       "      <td>1.5</td>\n",
       "      <td>1.8</td>\n",
       "      <td>0.838</td>\n",
       "      <td>0.8</td>\n",
       "      <td>3.7</td>\n",
       "      <td>4.5</td>\n",
       "      <td>1.7</td>\n",
       "      <td>0.4</td>\n",
       "      <td>0.9</td>\n",
       "      <td>1.0</td>\n",
       "      <td>1.7</td>\n",
       "      <td>13.7</td>\n",
       "      <td>15.1</td>\n",
       "      <td>0.545</td>\n",
       "      <td>22.7</td>\n",
       "      <td>0.8</td>\n",
       "      <td>-1.2</td>\n",
       "    </tr>\n",
       "    <tr>\n",
       "      <th>...</th>\n",
       "      <td>...</td>\n",
       "      <td>...</td>\n",
       "      <td>...</td>\n",
       "      <td>...</td>\n",
       "      <td>...</td>\n",
       "      <td>...</td>\n",
       "      <td>...</td>\n",
       "      <td>...</td>\n",
       "      <td>...</td>\n",
       "      <td>...</td>\n",
       "      <td>...</td>\n",
       "      <td>...</td>\n",
       "      <td>...</td>\n",
       "      <td>...</td>\n",
       "      <td>...</td>\n",
       "      <td>...</td>\n",
       "      <td>...</td>\n",
       "      <td>...</td>\n",
       "      <td>...</td>\n",
       "      <td>...</td>\n",
       "      <td>...</td>\n",
       "      <td>...</td>\n",
       "      <td>...</td>\n",
       "      <td>...</td>\n",
       "      <td>...</td>\n",
       "      <td>...</td>\n",
       "      <td>...</td>\n",
       "      <td>...</td>\n",
       "      <td>...</td>\n",
       "      <td>...</td>\n",
       "      <td>...</td>\n",
       "      <td>...</td>\n",
       "      <td>...</td>\n",
       "      <td>...</td>\n",
       "      <td>...</td>\n",
       "    </tr>\n",
       "    <tr>\n",
       "      <th>621</th>\n",
       "      <td>536</td>\n",
       "      <td>Delon Wright</td>\n",
       "      <td>PG</td>\n",
       "      <td>28</td>\n",
       "      <td>SAC</td>\n",
       "      <td>27</td>\n",
       "      <td>8</td>\n",
       "      <td>25.8</td>\n",
       "      <td>3.9</td>\n",
       "      <td>8.3</td>\n",
       "      <td>0.462</td>\n",
       "      <td>1.2</td>\n",
       "      <td>3.1</td>\n",
       "      <td>0.398</td>\n",
       "      <td>2.6</td>\n",
       "      <td>5.3</td>\n",
       "      <td>0.500</td>\n",
       "      <td>0.536</td>\n",
       "      <td>1.1</td>\n",
       "      <td>1.3</td>\n",
       "      <td>0.833</td>\n",
       "      <td>1.0</td>\n",
       "      <td>2.9</td>\n",
       "      <td>3.9</td>\n",
       "      <td>3.6</td>\n",
       "      <td>1.6</td>\n",
       "      <td>0.4</td>\n",
       "      <td>1.3</td>\n",
       "      <td>1.1</td>\n",
       "      <td>10.0</td>\n",
       "      <td>15.9</td>\n",
       "      <td>0.563</td>\n",
       "      <td>17.1</td>\n",
       "      <td>1.3</td>\n",
       "      <td>0.8</td>\n",
       "    </tr>\n",
       "    <tr>\n",
       "      <th>622</th>\n",
       "      <td>537</td>\n",
       "      <td>Thaddeus Young</td>\n",
       "      <td>PF</td>\n",
       "      <td>32</td>\n",
       "      <td>CHI</td>\n",
       "      <td>68</td>\n",
       "      <td>23</td>\n",
       "      <td>24.3</td>\n",
       "      <td>5.4</td>\n",
       "      <td>9.7</td>\n",
       "      <td>0.559</td>\n",
       "      <td>0.2</td>\n",
       "      <td>0.7</td>\n",
       "      <td>0.267</td>\n",
       "      <td>5.3</td>\n",
       "      <td>9.1</td>\n",
       "      <td>0.580</td>\n",
       "      <td>0.568</td>\n",
       "      <td>1.0</td>\n",
       "      <td>1.7</td>\n",
       "      <td>0.628</td>\n",
       "      <td>2.5</td>\n",
       "      <td>3.8</td>\n",
       "      <td>6.2</td>\n",
       "      <td>4.3</td>\n",
       "      <td>1.1</td>\n",
       "      <td>0.6</td>\n",
       "      <td>2.0</td>\n",
       "      <td>2.2</td>\n",
       "      <td>12.1</td>\n",
       "      <td>20.3</td>\n",
       "      <td>0.578</td>\n",
       "      <td>22.3</td>\n",
       "      <td>5.1</td>\n",
       "      <td>3.2</td>\n",
       "    </tr>\n",
       "    <tr>\n",
       "      <th>623</th>\n",
       "      <td>538</td>\n",
       "      <td>Trae Young</td>\n",
       "      <td>PG</td>\n",
       "      <td>22</td>\n",
       "      <td>ATL</td>\n",
       "      <td>63</td>\n",
       "      <td>63</td>\n",
       "      <td>33.7</td>\n",
       "      <td>7.7</td>\n",
       "      <td>17.7</td>\n",
       "      <td>0.438</td>\n",
       "      <td>2.2</td>\n",
       "      <td>6.3</td>\n",
       "      <td>0.343</td>\n",
       "      <td>5.6</td>\n",
       "      <td>11.3</td>\n",
       "      <td>0.491</td>\n",
       "      <td>0.499</td>\n",
       "      <td>7.7</td>\n",
       "      <td>8.7</td>\n",
       "      <td>0.886</td>\n",
       "      <td>0.6</td>\n",
       "      <td>3.3</td>\n",
       "      <td>3.9</td>\n",
       "      <td>9.4</td>\n",
       "      <td>0.8</td>\n",
       "      <td>0.2</td>\n",
       "      <td>4.1</td>\n",
       "      <td>1.8</td>\n",
       "      <td>25.3</td>\n",
       "      <td>23.0</td>\n",
       "      <td>0.589</td>\n",
       "      <td>33.0</td>\n",
       "      <td>7.2</td>\n",
       "      <td>3.6</td>\n",
       "    </tr>\n",
       "    <tr>\n",
       "      <th>624</th>\n",
       "      <td>539</td>\n",
       "      <td>Cody Zeller</td>\n",
       "      <td>C</td>\n",
       "      <td>28</td>\n",
       "      <td>CHO</td>\n",
       "      <td>48</td>\n",
       "      <td>21</td>\n",
       "      <td>20.9</td>\n",
       "      <td>3.8</td>\n",
       "      <td>6.8</td>\n",
       "      <td>0.559</td>\n",
       "      <td>0.1</td>\n",
       "      <td>0.6</td>\n",
       "      <td>0.143</td>\n",
       "      <td>3.7</td>\n",
       "      <td>6.2</td>\n",
       "      <td>0.598</td>\n",
       "      <td>0.565</td>\n",
       "      <td>1.8</td>\n",
       "      <td>2.5</td>\n",
       "      <td>0.714</td>\n",
       "      <td>2.5</td>\n",
       "      <td>4.4</td>\n",
       "      <td>6.8</td>\n",
       "      <td>1.8</td>\n",
       "      <td>0.6</td>\n",
       "      <td>0.4</td>\n",
       "      <td>1.1</td>\n",
       "      <td>2.5</td>\n",
       "      <td>9.4</td>\n",
       "      <td>18.2</td>\n",
       "      <td>0.599</td>\n",
       "      <td>18.3</td>\n",
       "      <td>3.3</td>\n",
       "      <td>-0.3</td>\n",
       "    </tr>\n",
       "    <tr>\n",
       "      <th>625</th>\n",
       "      <td>540</td>\n",
       "      <td>Ivica Zubac</td>\n",
       "      <td>C</td>\n",
       "      <td>23</td>\n",
       "      <td>LAC</td>\n",
       "      <td>72</td>\n",
       "      <td>33</td>\n",
       "      <td>22.3</td>\n",
       "      <td>3.6</td>\n",
       "      <td>5.5</td>\n",
       "      <td>0.652</td>\n",
       "      <td>0.0</td>\n",
       "      <td>0.1</td>\n",
       "      <td>0.250</td>\n",
       "      <td>3.6</td>\n",
       "      <td>5.4</td>\n",
       "      <td>0.656</td>\n",
       "      <td>0.654</td>\n",
       "      <td>1.9</td>\n",
       "      <td>2.4</td>\n",
       "      <td>0.789</td>\n",
       "      <td>2.6</td>\n",
       "      <td>4.6</td>\n",
       "      <td>7.2</td>\n",
       "      <td>1.3</td>\n",
       "      <td>0.3</td>\n",
       "      <td>0.9</td>\n",
       "      <td>1.1</td>\n",
       "      <td>2.6</td>\n",
       "      <td>9.0</td>\n",
       "      <td>19.1</td>\n",
       "      <td>0.693</td>\n",
       "      <td>15.1</td>\n",
       "      <td>6.9</td>\n",
       "      <td>0.7</td>\n",
       "    </tr>\n",
       "  </tbody>\n",
       "</table>\n",
       "<p>626 rows × 35 columns</p>\n",
       "</div>"
      ],
      "text/plain": [
       "      Rk             Player Pos  Age   Tm   G  GS    MP   FG   FGA    FG%  \\\n",
       "0      1   Precious Achiuwa  PF   21  MIA  61   4  12.1  2.0   3.7  0.544   \n",
       "1      2       Jaylen Adams  PG   24  MIL   7   0   2.6  0.1   1.1  0.125   \n",
       "2      3       Steven Adams   C   27  NOP  58  58  27.7  3.3   5.3  0.614   \n",
       "3      4        Bam Adebayo   C   23  MIA  64  64  33.5  7.1  12.5  0.570   \n",
       "4      5  LaMarcus Aldridge   C   35  SAS  21  18  25.9  5.5  11.8  0.464   \n",
       "..   ...                ...  ..  ...  ...  ..  ..   ...  ...   ...    ...   \n",
       "621  536       Delon Wright  PG   28  SAC  27   8  25.8  3.9   8.3  0.462   \n",
       "622  537     Thaddeus Young  PF   32  CHI  68  23  24.3  5.4   9.7  0.559   \n",
       "623  538         Trae Young  PG   22  ATL  63  63  33.7  7.7  17.7  0.438   \n",
       "624  539        Cody Zeller   C   28  CHO  48  21  20.9  3.8   6.8  0.559   \n",
       "625  540        Ivica Zubac   C   23  LAC  72  33  22.3  3.6   5.5  0.652   \n",
       "\n",
       "      3P  3PA    3P%   2P   2PA    2P%   eFG%   FT  FTA    FT%  ORB  DRB  TRB  \\\n",
       "0    0.0  0.0  0.000  2.0   3.7  0.546  0.544  0.9  1.8  0.509  1.2  2.2  3.4   \n",
       "1    0.0  0.3  0.000  0.1   0.9  0.167  0.125  0.0  0.0    NaN  0.0  0.4  0.4   \n",
       "2    0.0  0.1  0.000  3.3   5.3  0.620  0.614  1.0  2.3  0.444  3.7  5.2  8.9   \n",
       "3    0.0  0.1  0.250  7.1  12.4  0.573  0.571  4.4  5.5  0.799  2.2  6.7  9.0   \n",
       "4    1.3  3.6  0.360  4.2   8.2  0.509  0.518  1.5  1.8  0.838  0.8  3.7  4.5   \n",
       "..   ...  ...    ...  ...   ...    ...    ...  ...  ...    ...  ...  ...  ...   \n",
       "621  1.2  3.1  0.398  2.6   5.3  0.500  0.536  1.1  1.3  0.833  1.0  2.9  3.9   \n",
       "622  0.2  0.7  0.267  5.3   9.1  0.580  0.568  1.0  1.7  0.628  2.5  3.8  6.2   \n",
       "623  2.2  6.3  0.343  5.6  11.3  0.491  0.499  7.7  8.7  0.886  0.6  3.3  3.9   \n",
       "624  0.1  0.6  0.143  3.7   6.2  0.598  0.565  1.8  2.5  0.714  2.5  4.4  6.8   \n",
       "625  0.0  0.1  0.250  3.6   5.4  0.656  0.654  1.9  2.4  0.789  2.6  4.6  7.2   \n",
       "\n",
       "     AST  STL  BLK  TOV   PF   PTS   PER    TS%  USG%   WS   BPM  \n",
       "0    0.5  0.3  0.5  0.7  1.5   5.0  14.2  0.550  19.5  1.3  -4.5  \n",
       "1    0.3  0.0  0.0  0.0  0.1   0.3  -6.5  0.125  18.6 -0.1 -19.8  \n",
       "2    1.9  0.9  0.7  1.3  1.9   7.6  15.1  0.596  11.7  4.0  -0.8  \n",
       "3    5.4  1.2  1.0  2.6  2.3  18.7  22.7  0.626  23.7  8.8   4.7  \n",
       "4    1.7  0.4  0.9  1.0  1.7  13.7  15.1  0.545  22.7  0.8  -1.2  \n",
       "..   ...  ...  ...  ...  ...   ...   ...    ...   ...  ...   ...  \n",
       "621  3.6  1.6  0.4  1.3  1.1  10.0  15.9  0.563  17.1  1.3   0.8  \n",
       "622  4.3  1.1  0.6  2.0  2.2  12.1  20.3  0.578  22.3  5.1   3.2  \n",
       "623  9.4  0.8  0.2  4.1  1.8  25.3  23.0  0.589  33.0  7.2   3.6  \n",
       "624  1.8  0.6  0.4  1.1  2.5   9.4  18.2  0.599  18.3  3.3  -0.3  \n",
       "625  1.3  0.3  0.9  1.1  2.6   9.0  19.1  0.693  15.1  6.9   0.7  \n",
       "\n",
       "[626 rows x 35 columns]"
      ]
     },
     "execution_count": 32,
     "metadata": {},
     "output_type": "execute_result"
    }
   ],
   "source": [
    "#Bringing in new data for this past season (2020-2021)\n",
    "#Cheers to Basketball Reference for having the data, just needed to combine them\n",
    "\n",
    "mydata = pd.read_csv('2020_2021_season.csv')\n",
    "print(mydata.shape, mydata.columns.to_list(),'\\n')\n",
    "mydata"
   ]
  },
  {
   "cell_type": "markdown",
   "metadata": {},
   "source": [
    "# Once again, replace null/blank values with 0"
   ]
  },
  {
   "cell_type": "code",
   "execution_count": 33,
   "metadata": {},
   "outputs": [],
   "source": [
    "mydata.fillna(0, inplace=True)"
   ]
  },
  {
   "cell_type": "markdown",
   "metadata": {},
   "source": [
    "# Creating a dataset with only the 10 negative/positive features that we discovered earlier"
   ]
  },
  {
   "cell_type": "code",
   "execution_count": 34,
   "metadata": {},
   "outputs": [],
   "source": [
    "mydata2 = mydata[['BLK', 'DRB', 'WS', 'STL', 'AST', 'USG%', '3P', '3P%', 'MP', '2PA', 'TOV', 'TRB', 'FGA', 'FTA', 'FT', '3PA', 'PER', 'PF', '2P', 'ORB']]"
   ]
  },
  {
   "cell_type": "code",
   "execution_count": 35,
   "metadata": {},
   "outputs": [
    {
     "data": {
      "text/html": [
       "<div>\n",
       "<style scoped>\n",
       "    .dataframe tbody tr th:only-of-type {\n",
       "        vertical-align: middle;\n",
       "    }\n",
       "\n",
       "    .dataframe tbody tr th {\n",
       "        vertical-align: top;\n",
       "    }\n",
       "\n",
       "    .dataframe thead th {\n",
       "        text-align: right;\n",
       "    }\n",
       "</style>\n",
       "<table border=\"1\" class=\"dataframe\">\n",
       "  <thead>\n",
       "    <tr style=\"text-align: right;\">\n",
       "      <th></th>\n",
       "      <th>BLK</th>\n",
       "      <th>DRB</th>\n",
       "      <th>WS</th>\n",
       "      <th>STL</th>\n",
       "      <th>AST</th>\n",
       "      <th>USG%</th>\n",
       "      <th>3P</th>\n",
       "      <th>3P%</th>\n",
       "      <th>MP</th>\n",
       "      <th>2PA</th>\n",
       "      <th>TOV</th>\n",
       "      <th>TRB</th>\n",
       "      <th>FGA</th>\n",
       "      <th>FTA</th>\n",
       "      <th>FT</th>\n",
       "      <th>3PA</th>\n",
       "      <th>PER</th>\n",
       "      <th>PF</th>\n",
       "      <th>2P</th>\n",
       "      <th>ORB</th>\n",
       "    </tr>\n",
       "  </thead>\n",
       "  <tbody>\n",
       "    <tr>\n",
       "      <th>0</th>\n",
       "      <td>0.5</td>\n",
       "      <td>2.2</td>\n",
       "      <td>1.3</td>\n",
       "      <td>0.3</td>\n",
       "      <td>0.5</td>\n",
       "      <td>19.5</td>\n",
       "      <td>0.0</td>\n",
       "      <td>0.000</td>\n",
       "      <td>12.1</td>\n",
       "      <td>3.7</td>\n",
       "      <td>0.7</td>\n",
       "      <td>3.4</td>\n",
       "      <td>3.7</td>\n",
       "      <td>1.8</td>\n",
       "      <td>0.9</td>\n",
       "      <td>0.0</td>\n",
       "      <td>14.2</td>\n",
       "      <td>1.5</td>\n",
       "      <td>2.0</td>\n",
       "      <td>1.2</td>\n",
       "    </tr>\n",
       "    <tr>\n",
       "      <th>1</th>\n",
       "      <td>0.0</td>\n",
       "      <td>0.4</td>\n",
       "      <td>-0.1</td>\n",
       "      <td>0.0</td>\n",
       "      <td>0.3</td>\n",
       "      <td>18.6</td>\n",
       "      <td>0.0</td>\n",
       "      <td>0.000</td>\n",
       "      <td>2.6</td>\n",
       "      <td>0.9</td>\n",
       "      <td>0.0</td>\n",
       "      <td>0.4</td>\n",
       "      <td>1.1</td>\n",
       "      <td>0.0</td>\n",
       "      <td>0.0</td>\n",
       "      <td>0.3</td>\n",
       "      <td>-6.5</td>\n",
       "      <td>0.1</td>\n",
       "      <td>0.1</td>\n",
       "      <td>0.0</td>\n",
       "    </tr>\n",
       "    <tr>\n",
       "      <th>2</th>\n",
       "      <td>0.7</td>\n",
       "      <td>5.2</td>\n",
       "      <td>4.0</td>\n",
       "      <td>0.9</td>\n",
       "      <td>1.9</td>\n",
       "      <td>11.7</td>\n",
       "      <td>0.0</td>\n",
       "      <td>0.000</td>\n",
       "      <td>27.7</td>\n",
       "      <td>5.3</td>\n",
       "      <td>1.3</td>\n",
       "      <td>8.9</td>\n",
       "      <td>5.3</td>\n",
       "      <td>2.3</td>\n",
       "      <td>1.0</td>\n",
       "      <td>0.1</td>\n",
       "      <td>15.1</td>\n",
       "      <td>1.9</td>\n",
       "      <td>3.3</td>\n",
       "      <td>3.7</td>\n",
       "    </tr>\n",
       "    <tr>\n",
       "      <th>3</th>\n",
       "      <td>1.0</td>\n",
       "      <td>6.7</td>\n",
       "      <td>8.8</td>\n",
       "      <td>1.2</td>\n",
       "      <td>5.4</td>\n",
       "      <td>23.7</td>\n",
       "      <td>0.0</td>\n",
       "      <td>0.250</td>\n",
       "      <td>33.5</td>\n",
       "      <td>12.4</td>\n",
       "      <td>2.6</td>\n",
       "      <td>9.0</td>\n",
       "      <td>12.5</td>\n",
       "      <td>5.5</td>\n",
       "      <td>4.4</td>\n",
       "      <td>0.1</td>\n",
       "      <td>22.7</td>\n",
       "      <td>2.3</td>\n",
       "      <td>7.1</td>\n",
       "      <td>2.2</td>\n",
       "    </tr>\n",
       "    <tr>\n",
       "      <th>4</th>\n",
       "      <td>0.9</td>\n",
       "      <td>3.7</td>\n",
       "      <td>0.8</td>\n",
       "      <td>0.4</td>\n",
       "      <td>1.7</td>\n",
       "      <td>22.7</td>\n",
       "      <td>1.3</td>\n",
       "      <td>0.360</td>\n",
       "      <td>25.9</td>\n",
       "      <td>8.2</td>\n",
       "      <td>1.0</td>\n",
       "      <td>4.5</td>\n",
       "      <td>11.8</td>\n",
       "      <td>1.8</td>\n",
       "      <td>1.5</td>\n",
       "      <td>3.6</td>\n",
       "      <td>15.1</td>\n",
       "      <td>1.7</td>\n",
       "      <td>4.2</td>\n",
       "      <td>0.8</td>\n",
       "    </tr>\n",
       "    <tr>\n",
       "      <th>...</th>\n",
       "      <td>...</td>\n",
       "      <td>...</td>\n",
       "      <td>...</td>\n",
       "      <td>...</td>\n",
       "      <td>...</td>\n",
       "      <td>...</td>\n",
       "      <td>...</td>\n",
       "      <td>...</td>\n",
       "      <td>...</td>\n",
       "      <td>...</td>\n",
       "      <td>...</td>\n",
       "      <td>...</td>\n",
       "      <td>...</td>\n",
       "      <td>...</td>\n",
       "      <td>...</td>\n",
       "      <td>...</td>\n",
       "      <td>...</td>\n",
       "      <td>...</td>\n",
       "      <td>...</td>\n",
       "      <td>...</td>\n",
       "    </tr>\n",
       "    <tr>\n",
       "      <th>621</th>\n",
       "      <td>0.4</td>\n",
       "      <td>2.9</td>\n",
       "      <td>1.3</td>\n",
       "      <td>1.6</td>\n",
       "      <td>3.6</td>\n",
       "      <td>17.1</td>\n",
       "      <td>1.2</td>\n",
       "      <td>0.398</td>\n",
       "      <td>25.8</td>\n",
       "      <td>5.3</td>\n",
       "      <td>1.3</td>\n",
       "      <td>3.9</td>\n",
       "      <td>8.3</td>\n",
       "      <td>1.3</td>\n",
       "      <td>1.1</td>\n",
       "      <td>3.1</td>\n",
       "      <td>15.9</td>\n",
       "      <td>1.1</td>\n",
       "      <td>2.6</td>\n",
       "      <td>1.0</td>\n",
       "    </tr>\n",
       "    <tr>\n",
       "      <th>622</th>\n",
       "      <td>0.6</td>\n",
       "      <td>3.8</td>\n",
       "      <td>5.1</td>\n",
       "      <td>1.1</td>\n",
       "      <td>4.3</td>\n",
       "      <td>22.3</td>\n",
       "      <td>0.2</td>\n",
       "      <td>0.267</td>\n",
       "      <td>24.3</td>\n",
       "      <td>9.1</td>\n",
       "      <td>2.0</td>\n",
       "      <td>6.2</td>\n",
       "      <td>9.7</td>\n",
       "      <td>1.7</td>\n",
       "      <td>1.0</td>\n",
       "      <td>0.7</td>\n",
       "      <td>20.3</td>\n",
       "      <td>2.2</td>\n",
       "      <td>5.3</td>\n",
       "      <td>2.5</td>\n",
       "    </tr>\n",
       "    <tr>\n",
       "      <th>623</th>\n",
       "      <td>0.2</td>\n",
       "      <td>3.3</td>\n",
       "      <td>7.2</td>\n",
       "      <td>0.8</td>\n",
       "      <td>9.4</td>\n",
       "      <td>33.0</td>\n",
       "      <td>2.2</td>\n",
       "      <td>0.343</td>\n",
       "      <td>33.7</td>\n",
       "      <td>11.3</td>\n",
       "      <td>4.1</td>\n",
       "      <td>3.9</td>\n",
       "      <td>17.7</td>\n",
       "      <td>8.7</td>\n",
       "      <td>7.7</td>\n",
       "      <td>6.3</td>\n",
       "      <td>23.0</td>\n",
       "      <td>1.8</td>\n",
       "      <td>5.6</td>\n",
       "      <td>0.6</td>\n",
       "    </tr>\n",
       "    <tr>\n",
       "      <th>624</th>\n",
       "      <td>0.4</td>\n",
       "      <td>4.4</td>\n",
       "      <td>3.3</td>\n",
       "      <td>0.6</td>\n",
       "      <td>1.8</td>\n",
       "      <td>18.3</td>\n",
       "      <td>0.1</td>\n",
       "      <td>0.143</td>\n",
       "      <td>20.9</td>\n",
       "      <td>6.2</td>\n",
       "      <td>1.1</td>\n",
       "      <td>6.8</td>\n",
       "      <td>6.8</td>\n",
       "      <td>2.5</td>\n",
       "      <td>1.8</td>\n",
       "      <td>0.6</td>\n",
       "      <td>18.2</td>\n",
       "      <td>2.5</td>\n",
       "      <td>3.7</td>\n",
       "      <td>2.5</td>\n",
       "    </tr>\n",
       "    <tr>\n",
       "      <th>625</th>\n",
       "      <td>0.9</td>\n",
       "      <td>4.6</td>\n",
       "      <td>6.9</td>\n",
       "      <td>0.3</td>\n",
       "      <td>1.3</td>\n",
       "      <td>15.1</td>\n",
       "      <td>0.0</td>\n",
       "      <td>0.250</td>\n",
       "      <td>22.3</td>\n",
       "      <td>5.4</td>\n",
       "      <td>1.1</td>\n",
       "      <td>7.2</td>\n",
       "      <td>5.5</td>\n",
       "      <td>2.4</td>\n",
       "      <td>1.9</td>\n",
       "      <td>0.1</td>\n",
       "      <td>19.1</td>\n",
       "      <td>2.6</td>\n",
       "      <td>3.6</td>\n",
       "      <td>2.6</td>\n",
       "    </tr>\n",
       "  </tbody>\n",
       "</table>\n",
       "<p>626 rows × 20 columns</p>\n",
       "</div>"
      ],
      "text/plain": [
       "     BLK  DRB   WS  STL  AST  USG%   3P    3P%    MP   2PA  TOV  TRB   FGA  \\\n",
       "0    0.5  2.2  1.3  0.3  0.5  19.5  0.0  0.000  12.1   3.7  0.7  3.4   3.7   \n",
       "1    0.0  0.4 -0.1  0.0  0.3  18.6  0.0  0.000   2.6   0.9  0.0  0.4   1.1   \n",
       "2    0.7  5.2  4.0  0.9  1.9  11.7  0.0  0.000  27.7   5.3  1.3  8.9   5.3   \n",
       "3    1.0  6.7  8.8  1.2  5.4  23.7  0.0  0.250  33.5  12.4  2.6  9.0  12.5   \n",
       "4    0.9  3.7  0.8  0.4  1.7  22.7  1.3  0.360  25.9   8.2  1.0  4.5  11.8   \n",
       "..   ...  ...  ...  ...  ...   ...  ...    ...   ...   ...  ...  ...   ...   \n",
       "621  0.4  2.9  1.3  1.6  3.6  17.1  1.2  0.398  25.8   5.3  1.3  3.9   8.3   \n",
       "622  0.6  3.8  5.1  1.1  4.3  22.3  0.2  0.267  24.3   9.1  2.0  6.2   9.7   \n",
       "623  0.2  3.3  7.2  0.8  9.4  33.0  2.2  0.343  33.7  11.3  4.1  3.9  17.7   \n",
       "624  0.4  4.4  3.3  0.6  1.8  18.3  0.1  0.143  20.9   6.2  1.1  6.8   6.8   \n",
       "625  0.9  4.6  6.9  0.3  1.3  15.1  0.0  0.250  22.3   5.4  1.1  7.2   5.5   \n",
       "\n",
       "     FTA   FT  3PA   PER   PF   2P  ORB  \n",
       "0    1.8  0.9  0.0  14.2  1.5  2.0  1.2  \n",
       "1    0.0  0.0  0.3  -6.5  0.1  0.1  0.0  \n",
       "2    2.3  1.0  0.1  15.1  1.9  3.3  3.7  \n",
       "3    5.5  4.4  0.1  22.7  2.3  7.1  2.2  \n",
       "4    1.8  1.5  3.6  15.1  1.7  4.2  0.8  \n",
       "..   ...  ...  ...   ...  ...  ...  ...  \n",
       "621  1.3  1.1  3.1  15.9  1.1  2.6  1.0  \n",
       "622  1.7  1.0  0.7  20.3  2.2  5.3  2.5  \n",
       "623  8.7  7.7  6.3  23.0  1.8  5.6  0.6  \n",
       "624  2.5  1.8  0.6  18.2  2.5  3.7  2.5  \n",
       "625  2.4  1.9  0.1  19.1  2.6  3.6  2.6  \n",
       "\n",
       "[626 rows x 20 columns]"
      ]
     },
     "execution_count": 35,
     "metadata": {},
     "output_type": "execute_result"
    }
   ],
   "source": [
    "mydata2"
   ]
  },
  {
   "cell_type": "code",
   "execution_count": 36,
   "metadata": {},
   "outputs": [
    {
     "name": "stdout",
     "output_type": "stream",
     "text": [
      "['BLK', 'DRB', 'WS', 'STL', 'AST', 'USG%', '3P', '3P%', 'MP', '2PA', 'TOV', 'TRB', 'FGA', 'FTA', 'FT', '3PA', 'PER', 'PF', '2P', 'ORB'] \n",
      "\n"
     ]
    }
   ],
   "source": [
    "xcols3 = mydata2.columns.to_list()\n",
    "print(xcols3,'\\n')"
   ]
  },
  {
   "cell_type": "markdown",
   "metadata": {},
   "source": [
    "# Predicting the 2020-2021 all-stars with the data"
   ]
  },
  {
   "cell_type": "code",
   "execution_count": 37,
   "metadata": {},
   "outputs": [],
   "source": [
    "pred = clf.predict(mydata[xcols3])"
   ]
  },
  {
   "cell_type": "code",
   "execution_count": 38,
   "metadata": {},
   "outputs": [
    {
     "name": "stdout",
     "output_type": "stream",
     "text": [
      "[0 0 0 0 0 0 0 0 0 0 0 0 0 0 1 0 0 0 0 0 0 0 0 0 0 0 0 0 0 0 0 0 0 0 0 0 0\n",
      " 0 0 0 0 0 0 0 0 0 0 0 0 0 0 0 0 0 0 0 0 0 0 0 0 0 0 0 0 0 0 0 0 0 0 0 0 0\n",
      " 0 0 0 0 0 0 0 0 0 0 0 0 0 0 0 0 0 0 0 0 0 0 0 0 0 0 0 0 0 0 0 0 0 0 0 0 0\n",
      " 0 0 0 0 0 0 0 0 0 0 0 0 0 0 0 0 0 0 0 0 0 0 0 1 0 0 0 0 0 0 0 0 0 0 0 0 0\n",
      " 0 0 0 1 0 0 0 0 0 0 0 0 0 0 1 0 0 0 0 0 1 0 0 0 0 0 0 0 0 0 0 0 0 0 0 0 0\n",
      " 0 0 0 0 0 0 0 0 0 0 0 0 0 1 0 0 0 0 0 0 0 0 0 0 0 0 0 0 0 0 0 0 0 0 0 0 0\n",
      " 0 0 0 0 0 0 0 0 1 0 0 0 0 0 0 0 0 0 0 0 0 0 0 0 0 0 0 0 0 0 0 0 0 0 0 0 0\n",
      " 0 0 0 0 0 0 0 0 0 0 0 0 0 0 0 0 0 0 0 0 0 1 0 0 0 0 0 0 0 0 0 1 0 0 0 0 0\n",
      " 0 0 0 0 0 0 0 1 0 0 0 0 0 0 0 0 0 0 0 0 0 0 0 0 0 0 0 0 0 0 0 0 0 0 0 0 0\n",
      " 0 0 1 0 0 0 0 0 0 0 1 0 0 0 0 1 0 0 0 0 0 0 0 0 0 0 0 0 0 0 0 0 0 0 0 0 0\n",
      " 0 0 0 0 0 0 0 0 0 0 0 0 0 0 0 0 0 0 0 0 0 0 0 0 0 0 0 0 0 0 0 0 1 0 0 0 0\n",
      " 0 0 0 0 0 0 0 0 0 0 0 0 0 0 0 0 0 0 0 0 0 0 0 0 0 0 0 0 0 0 0 0 0 0 0 0 0\n",
      " 0 0 0 0 0 0 0 0 0 0 0 1 0 0 0 0 0 0 0 0 0 0 0 0 0 0 0 0 0 0 0 0 0 0 0 0 0\n",
      " 0 0 0 0 1 0 0 0 0 0 0 0 0 0 0 0 0 0 0 0 0 0 0 0 0 0 0 0 0 0 0 0 1 0 0 0 0\n",
      " 0 0 0 0 0 0 0 0 0 0 0 0 0 0 0 0 0 0 0 0 0 0 0 0 0 0 1 0 0 0 0 0 0 0 0 0 0\n",
      " 0 0 0 0 0 0 0 0 0 0 0 0 0 0 0 0 0 0 0 0 0 0 0 0 0 0 0 1 1 0 0 0 0 0 0 0 0\n",
      " 0 0 0 0 0 0 0 1 0 0 0 0 0 0 0 0 0 0 0 0 0 0 0 0 0 0 0 0 0 0 0 1 0 0]\n"
     ]
    }
   ],
   "source": [
    "print(pred)"
   ]
  },
  {
   "cell_type": "markdown",
   "metadata": {},
   "source": [
    "# Adding the All-Star information back to the dataset"
   ]
  },
  {
   "cell_type": "code",
   "execution_count": 39,
   "metadata": {},
   "outputs": [],
   "source": [
    "mydata['All-Star'] = pred.tolist()"
   ]
  },
  {
   "cell_type": "code",
   "execution_count": 40,
   "metadata": {},
   "outputs": [
    {
     "name": "stdout",
     "output_type": "stream",
     "text": [
      "      Rk             Player Pos  Age   Tm   G  GS    MP   FG   FGA    FG%  \\\n",
      "0      1   Precious Achiuwa  PF   21  MIA  61   4  12.1  2.0   3.7  0.544   \n",
      "1      2       Jaylen Adams  PG   24  MIL   7   0   2.6  0.1   1.1  0.125   \n",
      "2      3       Steven Adams   C   27  NOP  58  58  27.7  3.3   5.3  0.614   \n",
      "3      4        Bam Adebayo   C   23  MIA  64  64  33.5  7.1  12.5  0.570   \n",
      "4      5  LaMarcus Aldridge   C   35  SAS  21  18  25.9  5.5  11.8  0.464   \n",
      "..   ...                ...  ..  ...  ...  ..  ..   ...  ...   ...    ...   \n",
      "621  536       Delon Wright  PG   28  SAC  27   8  25.8  3.9   8.3  0.462   \n",
      "622  537     Thaddeus Young  PF   32  CHI  68  23  24.3  5.4   9.7  0.559   \n",
      "623  538         Trae Young  PG   22  ATL  63  63  33.7  7.7  17.7  0.438   \n",
      "624  539        Cody Zeller   C   28  CHO  48  21  20.9  3.8   6.8  0.559   \n",
      "625  540        Ivica Zubac   C   23  LAC  72  33  22.3  3.6   5.5  0.652   \n",
      "\n",
      "      3P  3PA    3P%   2P   2PA    2P%   eFG%   FT  FTA    FT%  ORB  DRB  TRB  \\\n",
      "0    0.0  0.0  0.000  2.0   3.7  0.546  0.544  0.9  1.8  0.509  1.2  2.2  3.4   \n",
      "1    0.0  0.3  0.000  0.1   0.9  0.167  0.125  0.0  0.0  0.000  0.0  0.4  0.4   \n",
      "2    0.0  0.1  0.000  3.3   5.3  0.620  0.614  1.0  2.3  0.444  3.7  5.2  8.9   \n",
      "3    0.0  0.1  0.250  7.1  12.4  0.573  0.571  4.4  5.5  0.799  2.2  6.7  9.0   \n",
      "4    1.3  3.6  0.360  4.2   8.2  0.509  0.518  1.5  1.8  0.838  0.8  3.7  4.5   \n",
      "..   ...  ...    ...  ...   ...    ...    ...  ...  ...    ...  ...  ...  ...   \n",
      "621  1.2  3.1  0.398  2.6   5.3  0.500  0.536  1.1  1.3  0.833  1.0  2.9  3.9   \n",
      "622  0.2  0.7  0.267  5.3   9.1  0.580  0.568  1.0  1.7  0.628  2.5  3.8  6.2   \n",
      "623  2.2  6.3  0.343  5.6  11.3  0.491  0.499  7.7  8.7  0.886  0.6  3.3  3.9   \n",
      "624  0.1  0.6  0.143  3.7   6.2  0.598  0.565  1.8  2.5  0.714  2.5  4.4  6.8   \n",
      "625  0.0  0.1  0.250  3.6   5.4  0.656  0.654  1.9  2.4  0.789  2.6  4.6  7.2   \n",
      "\n",
      "     AST  STL  BLK  TOV   PF   PTS   PER    TS%  USG%   WS   BPM  All-Star  \n",
      "0    0.5  0.3  0.5  0.7  1.5   5.0  14.2  0.550  19.5  1.3  -4.5         0  \n",
      "1    0.3  0.0  0.0  0.0  0.1   0.3  -6.5  0.125  18.6 -0.1 -19.8         0  \n",
      "2    1.9  0.9  0.7  1.3  1.9   7.6  15.1  0.596  11.7  4.0  -0.8         0  \n",
      "3    5.4  1.2  1.0  2.6  2.3  18.7  22.7  0.626  23.7  8.8   4.7         0  \n",
      "4    1.7  0.4  0.9  1.0  1.7  13.7  15.1  0.545  22.7  0.8  -1.2         0  \n",
      "..   ...  ...  ...  ...  ...   ...   ...    ...   ...  ...   ...       ...  \n",
      "621  3.6  1.6  0.4  1.3  1.1  10.0  15.9  0.563  17.1  1.3   0.8         0  \n",
      "622  4.3  1.1  0.6  2.0  2.2  12.1  20.3  0.578  22.3  5.1   3.2         0  \n",
      "623  9.4  0.8  0.2  4.1  1.8  25.3  23.0  0.589  33.0  7.2   3.6         1  \n",
      "624  1.8  0.6  0.4  1.1  2.5   9.4  18.2  0.599  18.3  3.3  -0.3         0  \n",
      "625  1.3  0.3  0.9  1.1  2.6   9.0  19.1  0.693  15.1  6.9   0.7         0  \n",
      "\n",
      "[626 rows x 36 columns]\n"
     ]
    }
   ],
   "source": [
    "print(mydata)"
   ]
  },
  {
   "cell_type": "code",
   "execution_count": 42,
   "metadata": {},
   "outputs": [],
   "source": [
    "#Storing the results\n",
    "\n",
    "mydata.to_csv(r'/Users/tricky/Desktop/Predicting NBA All-Stars project/Data/2020_season_all_stars.csv')"
   ]
  },
  {
   "cell_type": "markdown",
   "metadata": {},
   "source": [
    "# Final Results"
   ]
  },
  {
   "cell_type": "markdown",
   "metadata": {},
   "source": [
    "## 2020 All-Stars from my model:\n",
    "#### Giannis Antetokounmpo\n",
    "#### Stephen Curry\n",
    "#### Luka Doncic\n",
    "#### Kevin Durant\n",
    "#### Joel Embiid\n",
    "#### Paul George\n",
    "#### James Harden\n",
    "#### Kyrie Irving\n",
    "#### LeBron James\n",
    "#### Nikola Jokic\n",
    "#### Zach LaVine\n",
    "#### Kawhi Leonard\n",
    "#### Damian Lillard\n",
    "#### Donovan Mitchell\n",
    "#### Chris Paul\n",
    "#### Julius Randle\n",
    "#### Domantas Sabonis\n",
    "#### Jayson Tatum\n",
    "#### Nikola Vucevic\n",
    "#### Russell Westbrook\n",
    "#### Trae Young"
   ]
  },
  {
   "cell_type": "markdown",
   "metadata": {},
   "source": [
    "## 2020 All-Stars in reality:\n",
    "#### Giannis Antetokounmpo\n",
    "#### Stephen Curry\n",
    "#### Luka Doncic\n",
    "#### Kevin Durant\n",
    "#### Joel Embiid\n",
    "#### Paul George\n",
    "#### James Harden\n",
    "#### Kyrie Irving\n",
    "#### LeBron James\n",
    "#### Nikola Jokic\n",
    "#### Zach LaVine\n",
    "#### Kawhi Leonard\n",
    "#### Damian Lillard\n",
    "#### Donovan Mitchell\n",
    "#### Chris Paul\n",
    "#### Julius Randle\n",
    "#### Domantas Sabonis\n",
    "#### Jayson Tatum\n",
    "#### Nikola Vucevic\n",
    "#### Jaylen Brown\n",
    "#### Rudy Gobert\n",
    "#### Ben Simmons\n",
    "#### Bradley Beal\n",
    "#### Mike Conley\n",
    "#### Trae Young"
   ]
  }
 ],
 "metadata": {
  "kernelspec": {
   "display_name": "Python 3",
   "language": "python",
   "name": "python3"
  },
  "language_info": {
   "codemirror_mode": {
    "name": "ipython",
    "version": 3
   },
   "file_extension": ".py",
   "mimetype": "text/x-python",
   "name": "python",
   "nbconvert_exporter": "python",
   "pygments_lexer": "ipython3",
   "version": "3.8.5"
  }
 },
 "nbformat": 4,
 "nbformat_minor": 4
}
